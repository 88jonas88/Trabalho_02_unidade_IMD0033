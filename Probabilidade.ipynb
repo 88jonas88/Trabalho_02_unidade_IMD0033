{
 "cells": [
  {
   "cell_type": "code",
   "execution_count": 1,
   "metadata": {},
   "outputs": [],
   "source": [
    "# Importes das bibliotecas\n",
    "import pandas as pd\n",
    "import matplotlib.pyplot as plt\n",
    "import seaborn as sns\n",
    "import numpy as np"
   ]
  },
  {
   "cell_type": "code",
   "execution_count": 2,
   "metadata": {},
   "outputs": [],
   "source": [
    "# Links das tabelas de discentes ingressantes encurtadas\n",
    "# Encurtador de link https://bit.ly\n",
    "\n",
    "discentes_2013 = 'https://bit.ly/2I8xHKQ'\n",
    "\n",
    "discentes_2014 = 'https://bit.ly/2ruej3x'\n",
    "\n",
    "discentes_2015 = 'https://bit.ly/2rrUeuE'\n",
    "\n",
    "discentes_2016 = 'https://bit.ly/2ruUKbh'\n",
    "\n",
    "# discentes_2017 = 'https://bit.ly/2K0WwsE' tabela de dados de 2017 é a mesma tabela de 2009\n",
    "\n",
    "discentes_2018 = 'https://bit.ly/2wq265O'"
   ]
  },
  {
   "cell_type": "code",
   "execution_count": 18,
   "metadata": {},
   "outputs": [],
   "source": [
    "# Leitura das tabelas\n",
    "turmas_2013 = pd.read_csv(discentes_2013, sep=';')\n",
    "turmas_2014 = pd.read_csv(discentes_2014, sep=';')\n",
    "turmas_2015 = pd.read_csv(discentes_2015, sep=';')\n",
    "turmas_2016 = pd.read_csv(discentes_2016, sep=';')\n",
    "#turmas_2017 = pd.read_csv(discentes_2017, sep=';')\n",
    "turmas_2018 = pd.read_csv(discentes_2018, sep=';')"
   ]
  },
  {
   "cell_type": "code",
   "execution_count": 21,
   "metadata": {
    "scrolled": true
   },
   "outputs": [],
   "source": [
    "# Filtragem de dados pela coluna nome_unidade, sendo selecionadas somente a do IMD\n",
    "turma_2013_imd = turmas_2013.loc[(turmas_2013['nome_unidade'] == 'INSTITUTO METROPOLE DIGITAL')]\n",
    "turma_2014_imd = turmas_2014.loc[(turmas_2014['nome_unidade'] == 'INSTITUTO METROPOLE DIGITAL')]\n",
    "turma_2015_imd = turmas_2015.loc[(turmas_2015['nome_unidade'] == 'INSTITUTO METROPOLE DIGITAL')]\n",
    "turma_2016_imd = turmas_2016.loc[(turmas_2016['nome_unidade'] == 'INSTITUTO METROPOLE DIGITAL')]\n",
    "#turma_2017_imd = turmas_2017.loc[(turmas_2017['nome_unidade'] == 'INSTITUTO METROPOLE DIGITAL')]\n",
    "turma_2018_imd = turmas_2018.loc[(turmas_2018['nome_unidade'] == 'INSTITUTO METROPOLE DIGITAL')]"
   ]
  },
  {
   "cell_type": "code",
   "execution_count": 24,
   "metadata": {},
   "outputs": [
    {
     "data": {
      "text/plain": [
       "(9084, 16)"
      ]
     },
     "execution_count": 24,
     "metadata": {},
     "output_type": "execute_result"
    }
   ],
   "source": [
    "# Concatenação de todos os data frame de turmas do IMD\n",
    "imd_discentes = pd.concat([turma_2013_imd, turma_2014_imd, turma_2015_imd, turma_2016_imd, turma_2018_imd])\n",
    "imd_discentes.shape"
   ]
  },
  {
   "cell_type": "code",
   "execution_count": 25,
   "metadata": {},
   "outputs": [
    {
     "data": {
      "text/html": [
       "<div>\n",
       "<style scoped>\n",
       "    .dataframe tbody tr th:only-of-type {\n",
       "        vertical-align: middle;\n",
       "    }\n",
       "\n",
       "    .dataframe tbody tr th {\n",
       "        vertical-align: top;\n",
       "    }\n",
       "\n",
       "    .dataframe thead th {\n",
       "        text-align: right;\n",
       "    }\n",
       "</style>\n",
       "<table border=\"1\" class=\"dataframe\">\n",
       "  <thead>\n",
       "    <tr style=\"text-align: right;\">\n",
       "      <th></th>\n",
       "      <th>matricula</th>\n",
       "      <th>nome_discente</th>\n",
       "      <th>ano_ingresso</th>\n",
       "      <th>periodo_ingresso</th>\n",
       "      <th>forma_ingresso</th>\n",
       "      <th>tipo_discente</th>\n",
       "      <th>status</th>\n",
       "      <th>sigla_nivel_ensino</th>\n",
       "      <th>nivel_ensino</th>\n",
       "      <th>id_curso</th>\n",
       "      <th>nome_curso</th>\n",
       "      <th>modalidade_educacao</th>\n",
       "      <th>id_unidade</th>\n",
       "      <th>nome_unidade</th>\n",
       "      <th>id_unidade_gestora</th>\n",
       "      <th>nome_unidade_gestora</th>\n",
       "    </tr>\n",
       "  </thead>\n",
       "  <tbody>\n",
       "    <tr>\n",
       "      <th>1</th>\n",
       "      <td>2.013309e+09</td>\n",
       "      <td>ABDENOR BEZERRA DOS SANTOS</td>\n",
       "      <td>2013</td>\n",
       "      <td>1.0</td>\n",
       "      <td>PROCESSO SELETIVO</td>\n",
       "      <td>REGULAR</td>\n",
       "      <td>CANCELADO</td>\n",
       "      <td>T</td>\n",
       "      <td>TÉCNICO</td>\n",
       "      <td>96054058.0</td>\n",
       "      <td>CURSO TÉCNICO DA METRÓPOLE DIGITAL</td>\n",
       "      <td>SEMI-PRESENCIAL</td>\n",
       "      <td>6069.0</td>\n",
       "      <td>INSTITUTO METROPOLE DIGITAL</td>\n",
       "      <td>605.0</td>\n",
       "      <td>UNIVERSIDADE FEDERAL DO RIO GRANDE DO NORTE</td>\n",
       "    </tr>\n",
       "    <tr>\n",
       "      <th>3</th>\n",
       "      <td>2.013336e+09</td>\n",
       "      <td>ABDOM DOS SANTOS CANINDÉ</td>\n",
       "      <td>2013</td>\n",
       "      <td>1.0</td>\n",
       "      <td>PROCESSO SELETIVO</td>\n",
       "      <td>REGULAR</td>\n",
       "      <td>CANCELADO</td>\n",
       "      <td>T</td>\n",
       "      <td>TÉCNICO</td>\n",
       "      <td>96054058.0</td>\n",
       "      <td>CURSO TÉCNICO DA METRÓPOLE DIGITAL</td>\n",
       "      <td>SEMI-PRESENCIAL</td>\n",
       "      <td>6069.0</td>\n",
       "      <td>INSTITUTO METROPOLE DIGITAL</td>\n",
       "      <td>605.0</td>\n",
       "      <td>UNIVERSIDADE FEDERAL DO RIO GRANDE DO NORTE</td>\n",
       "    </tr>\n",
       "    <tr>\n",
       "      <th>4</th>\n",
       "      <td>2.013321e+09</td>\n",
       "      <td>ABELARDO BRUNDLE RODRIGUEZ DANTAS</td>\n",
       "      <td>2013</td>\n",
       "      <td>1.0</td>\n",
       "      <td>PROCESSO SELETIVO</td>\n",
       "      <td>REGULAR</td>\n",
       "      <td>CANCELADO</td>\n",
       "      <td>T</td>\n",
       "      <td>TÉCNICO</td>\n",
       "      <td>96054058.0</td>\n",
       "      <td>CURSO TÉCNICO DA METRÓPOLE DIGITAL</td>\n",
       "      <td>SEMI-PRESENCIAL</td>\n",
       "      <td>6069.0</td>\n",
       "      <td>INSTITUTO METROPOLE DIGITAL</td>\n",
       "      <td>605.0</td>\n",
       "      <td>UNIVERSIDADE FEDERAL DO RIO GRANDE DO NORTE</td>\n",
       "    </tr>\n",
       "    <tr>\n",
       "      <th>5</th>\n",
       "      <td>2.013304e+09</td>\n",
       "      <td>ABEL LAMEQUE SILVA DAMASCENO</td>\n",
       "      <td>2013</td>\n",
       "      <td>1.0</td>\n",
       "      <td>PROCESSO SELETIVO</td>\n",
       "      <td>REGULAR</td>\n",
       "      <td>CANCELADO</td>\n",
       "      <td>T</td>\n",
       "      <td>TÉCNICO</td>\n",
       "      <td>96054058.0</td>\n",
       "      <td>CURSO TÉCNICO DA METRÓPOLE DIGITAL</td>\n",
       "      <td>SEMI-PRESENCIAL</td>\n",
       "      <td>6069.0</td>\n",
       "      <td>INSTITUTO METROPOLE DIGITAL</td>\n",
       "      <td>605.0</td>\n",
       "      <td>UNIVERSIDADE FEDERAL DO RIO GRANDE DO NORTE</td>\n",
       "    </tr>\n",
       "    <tr>\n",
       "      <th>15</th>\n",
       "      <td>2.013304e+09</td>\n",
       "      <td>ABINADABE LIBNI SAMA SILVA DAMASCENO</td>\n",
       "      <td>2013</td>\n",
       "      <td>1.0</td>\n",
       "      <td>PROCESSO SELETIVO</td>\n",
       "      <td>REGULAR</td>\n",
       "      <td>CANCELADO</td>\n",
       "      <td>T</td>\n",
       "      <td>TÉCNICO</td>\n",
       "      <td>96054058.0</td>\n",
       "      <td>CURSO TÉCNICO DA METRÓPOLE DIGITAL</td>\n",
       "      <td>SEMI-PRESENCIAL</td>\n",
       "      <td>6069.0</td>\n",
       "      <td>INSTITUTO METROPOLE DIGITAL</td>\n",
       "      <td>605.0</td>\n",
       "      <td>UNIVERSIDADE FEDERAL DO RIO GRANDE DO NORTE</td>\n",
       "    </tr>\n",
       "  </tbody>\n",
       "</table>\n",
       "</div>"
      ],
      "text/plain": [
       "       matricula                         nome_discente  ano_ingresso  \\\n",
       "1   2.013309e+09            ABDENOR BEZERRA DOS SANTOS          2013   \n",
       "3   2.013336e+09              ABDOM DOS SANTOS CANINDÉ          2013   \n",
       "4   2.013321e+09     ABELARDO BRUNDLE RODRIGUEZ DANTAS          2013   \n",
       "5   2.013304e+09          ABEL LAMEQUE SILVA DAMASCENO          2013   \n",
       "15  2.013304e+09  ABINADABE LIBNI SAMA SILVA DAMASCENO          2013   \n",
       "\n",
       "    periodo_ingresso     forma_ingresso tipo_discente     status  \\\n",
       "1                1.0  PROCESSO SELETIVO       REGULAR  CANCELADO   \n",
       "3                1.0  PROCESSO SELETIVO       REGULAR  CANCELADO   \n",
       "4                1.0  PROCESSO SELETIVO       REGULAR  CANCELADO   \n",
       "5                1.0  PROCESSO SELETIVO       REGULAR  CANCELADO   \n",
       "15               1.0  PROCESSO SELETIVO       REGULAR  CANCELADO   \n",
       "\n",
       "   sigla_nivel_ensino nivel_ensino    id_curso  \\\n",
       "1                   T      TÉCNICO  96054058.0   \n",
       "3                   T      TÉCNICO  96054058.0   \n",
       "4                   T      TÉCNICO  96054058.0   \n",
       "5                   T      TÉCNICO  96054058.0   \n",
       "15                  T      TÉCNICO  96054058.0   \n",
       "\n",
       "                            nome_curso modalidade_educacao  id_unidade  \\\n",
       "1   CURSO TÉCNICO DA METRÓPOLE DIGITAL     SEMI-PRESENCIAL      6069.0   \n",
       "3   CURSO TÉCNICO DA METRÓPOLE DIGITAL     SEMI-PRESENCIAL      6069.0   \n",
       "4   CURSO TÉCNICO DA METRÓPOLE DIGITAL     SEMI-PRESENCIAL      6069.0   \n",
       "5   CURSO TÉCNICO DA METRÓPOLE DIGITAL     SEMI-PRESENCIAL      6069.0   \n",
       "15  CURSO TÉCNICO DA METRÓPOLE DIGITAL     SEMI-PRESENCIAL      6069.0   \n",
       "\n",
       "                   nome_unidade  id_unidade_gestora  \\\n",
       "1   INSTITUTO METROPOLE DIGITAL               605.0   \n",
       "3   INSTITUTO METROPOLE DIGITAL               605.0   \n",
       "4   INSTITUTO METROPOLE DIGITAL               605.0   \n",
       "5   INSTITUTO METROPOLE DIGITAL               605.0   \n",
       "15  INSTITUTO METROPOLE DIGITAL               605.0   \n",
       "\n",
       "                           nome_unidade_gestora  \n",
       "1   UNIVERSIDADE FEDERAL DO RIO GRANDE DO NORTE  \n",
       "3   UNIVERSIDADE FEDERAL DO RIO GRANDE DO NORTE  \n",
       "4   UNIVERSIDADE FEDERAL DO RIO GRANDE DO NORTE  \n",
       "5   UNIVERSIDADE FEDERAL DO RIO GRANDE DO NORTE  \n",
       "15  UNIVERSIDADE FEDERAL DO RIO GRANDE DO NORTE  "
      ]
     },
     "execution_count": 25,
     "metadata": {},
     "output_type": "execute_result"
    }
   ],
   "source": [
    "imd_discentes.head()"
   ]
  },
  {
   "cell_type": "code",
   "execution_count": 29,
   "metadata": {},
   "outputs": [
    {
     "data": {
      "text/plain": [
       "(1518, 16)"
      ]
     },
     "execution_count": 29,
     "metadata": {},
     "output_type": "execute_result"
    }
   ],
   "source": [
    "# Filtragem por docentes do nivel de ensino graduação\n",
    "discentes_imd_graduacao = imd_discentes.loc[(imd_discentes['nivel_ensino'] == 'GRADUAÇÃO')]\n",
    "discentes_imd_graduacao.shape"
   ]
  }
 ],
 "metadata": {
  "kernelspec": {
   "display_name": "Python 3",
   "language": "python",
   "name": "python3"
  },
  "language_info": {
   "codemirror_mode": {
    "name": "ipython",
    "version": 3
   },
   "file_extension": ".py",
   "mimetype": "text/x-python",
   "name": "python",
   "nbconvert_exporter": "python",
   "pygments_lexer": "ipython3",
   "version": "3.6.4"
  }
 },
 "nbformat": 4,
 "nbformat_minor": 2
}
