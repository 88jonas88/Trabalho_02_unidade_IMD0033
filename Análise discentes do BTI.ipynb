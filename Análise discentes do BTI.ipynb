{
 "cells": [
  {
   "cell_type": "markdown",
   "metadata": {},
   "source": [
    "# Análise das discentes do BTI autodeclaradas do sexo feminino.\n",
    "\n",
    "### Introdução\n",
    "\n",
    "Recentemente vem ganhando a grande mídia a pequena inserção de mulheres no mercado e cursos de TI,\n",
    "no ultimo dia 13 de abril o jornal [BBC Brasil](http://www.bbc.com/portuguese/geral-43592581) divulgou a matéria onde mostra que no inicio da década de 1970 tínhamos um número maior de mulheres nos cursos de informática, tanto no Brasil como no exterior. A mesma matéria cita nomes como Ada Lovelace, criadora do que hoje e considerado o primeiro algoritmo, e Mary Kenneth Keller, uma freira americana, que teve papel importante na criação da linguagem de programação BASIC.\n",
    "\n",
    "No site [oul](https://uolhost.uol.com.br/academia/noticias/tecnologia/2015/08/25/a-dificil-missao-de-ser-mulher-no-mercado-de-ti.html#rmcl) análisa o levantamento recente da Pesquisa Nacional por Amostra de Domicílios (PNAD), mostra que hoje temos um total de 580 mil profissionais de TI atuando no Brasil, e apenas 20% são mulheres. O levantamento da PNAD ainda mostra que cerca de 79% das mulheres que ingressão em cursos relacionados a TI abandoam o curso no primeiro ano.\n",
    "Para quem esta familiarizado com o mercado de TI esses números podem não ser novidades, porem quando\n",
    "quantificamos essa realidade se tem maior noção sobre a disparidade entre os gêneros, isto que\n",
    "tentaremos demonstra na conclusão dessa análise.\n",
    "\n",
    "### Objetivo\n",
    "\n",
    "Realizar análise do gênero feminino no curso de BTI, assim como sua análise sócio econômico das\n",
    "mesmas.\n",
    "\n",
    "*** Referência extra: ***\n",
    "\n",
    "[Histórias de Ninar Para Garotas Rebeldes](http://www.b9.com.br/90743/historias-de-ninar-para-garotas-rebeldes-margaret-hamilton-lido-por-sarah-oliveira/) - Historia de Margaret Hamilton narrado por Sarah Oliveira"
   ]
  },
  {
   "cell_type": "code",
   "execution_count": 2,
   "metadata": {},
   "outputs": [],
   "source": [
    "#Importação das bibliotecas\n",
    "\n",
    "import pandas as pd\n",
    "import matplotlib.pyplot as plt\n",
    "import seaborn as sns\n",
    "import numpy as np"
   ]
  },
  {
   "cell_type": "code",
   "execution_count": 3,
   "metadata": {},
   "outputs": [],
   "source": [
    "#Tabelas importadas do site  http://dados.ufrn.br/group/ensino\n",
    "#Dados sócio-econômicos dos discentes\n",
    "\n",
    "url_socio_2013_1 = 'https://bit.ly/2IwDSvE'\n",
    "url_socio_2013_2 = 'https://bit.ly/2KUmr6D'\n",
    "url_socio_2014_1 = 'https://bit.ly/2rwzbXX'\n",
    "url_socio_2014_2 = 'https://bit.ly/2IaMcO9'\n",
    "url_socio_2015_1 = 'https://bit.ly/2wuf4PY'\n",
    "url_socio_2015_2 = 'https://bit.ly/2K7UtTy'\n",
    "url_socio_2016_1 = 'https://bit.ly/2I5xrMA'\n",
    "url_socio_2016_2 = 'https://bit.ly/2K8jMF3'\n",
    "url_socio_2017_1 = 'https://bit.ly/2jLOb0T'\n",
    "\n",
    "#Matrículas em componentes\n",
    "\n",
    "matricula_2013_1 = 'https://bit.ly/2G7irff'\n",
    "matricula_2013_2 = 'https://bit.ly/2jPQ7FG'\n",
    "matricula_2014_1 = 'https://bit.ly/2rwFpI4'\n",
    "matricula_2014_2 = 'https://bit.ly/2I3mj6T'\n",
    "matricula_2015_1 = 'https://bit.ly/2I8YfeM'\n",
    "matricula_2015_2 = 'https://bit.ly/2rvknKb'\n",
    "matricula_2016_1 = 'https://bit.ly/2K7oy5w'\n",
    "matricula_2016_2 = 'https://bit.ly/2rup6Ma'\n",
    "matricula_2017_1 = 'https://bit.ly/2KMoTvS'\n",
    "\n",
    "#Dados complementares de discentes\n",
    "\n",
    "complementares_discente = 'https://bit.ly/2wxa4df'"
   ]
  },
  {
   "cell_type": "markdown",
   "metadata": {},
   "source": [
    "# Leitura de csv e limpeza de dados"
   ]
  },
  {
   "cell_type": "code",
   "execution_count": 4,
   "metadata": {},
   "outputs": [],
   "source": [
    "#Leitura dos dados sócio-econômicos dos discentes\n",
    "\n",
    "socio_2013_1 = pd.read_csv(url_socio_2013_1, sep=';')\n",
    "socio_2013_2 = pd.read_csv(url_socio_2013_2, sep=';')\n",
    "socio_2014_1 = pd.read_csv(url_socio_2014_1, sep=';')\n",
    "socio_2014_2 = pd.read_csv(url_socio_2014_2, sep=';')\n",
    "socio_2015_1 = pd.read_csv(url_socio_2015_1, sep=';')\n",
    "socio_2015_2 = pd.read_csv(url_socio_2015_2, sep=';')\n",
    "socio_2016_1 = pd.read_csv(url_socio_2016_1, sep=';')\n",
    "socio_2016_2 = pd.read_csv(url_socio_2016_2, sep=';')\n",
    "socio_2017_1 = pd.read_csv(url_socio_2017_1, sep=';')"
   ]
  },
  {
   "cell_type": "code",
   "execution_count": 5,
   "metadata": {},
   "outputs": [],
   "source": [
    "#Leitura das matrículas\n",
    "\n",
    "matriculas_2013_1 = pd.read_csv(matricula_2013_1, sep=';')\n",
    "matriculas_2013_2 = pd.read_csv(matricula_2013_2, sep=';')\n",
    "matriculas_2014_1 = pd.read_csv(matricula_2014_1, sep=';')\n",
    "matriculas_2014_2 = pd.read_csv(matricula_2014_2, sep=';')\n",
    "matriculas_2015_1 = pd.read_csv(matricula_2015_1, sep=';')\n",
    "matriculas_2015_2 = pd.read_csv(matricula_2015_2, sep=';')\n",
    "matriculas_2016_1 = pd.read_csv(matricula_2016_1, sep=';')\n",
    "matriculas_2016_2 = pd.read_csv(matricula_2016_2, sep=';')\n",
    "matriculas_2017_1 = pd.read_csv(matricula_2017_1, sep=';')"
   ]
  },
  {
   "cell_type": "code",
   "execution_count": 6,
   "metadata": {},
   "outputs": [
    {
     "data": {
      "text/plain": [
       "(372148, 14)"
      ]
     },
     "execution_count": 6,
     "metadata": {},
     "output_type": "execute_result"
    }
   ],
   "source": [
    "#Leitura dos dados complementares de discentes\n",
    "\n",
    "complemento = pd.read_csv(complementares_discente, sep=';')\n",
    "complemento.shape"
   ]
  },
  {
   "cell_type": "code",
   "execution_count": 7,
   "metadata": {},
   "outputs": [
    {
     "data": {
      "text/plain": [
       "(99296, 9)"
      ]
     },
     "execution_count": 7,
     "metadata": {},
     "output_type": "execute_result"
    }
   ],
   "source": [
    "#Concatenação dos data frames sócio-econômicos\n",
    "\n",
    "turmas = pd.concat([socio_2013_1, socio_2013_2, socio_2014_1, socio_2014_2,\n",
    "                    socio_2015_1, socio_2015_2, socio_2016_1,socio_2016_2, socio_2017_1])\n",
    "turmas.shape"
   ]
  },
  {
   "cell_type": "code",
   "execution_count": 8,
   "metadata": {},
   "outputs": [
    {
     "data": {
      "text/plain": [
       "(6339179, 11)"
      ]
     },
     "execution_count": 8,
     "metadata": {},
     "output_type": "execute_result"
    }
   ],
   "source": [
    "#Concatenação dos data frames matriculas\n",
    "\n",
    "matriculas = pd.concat([matriculas_2013_1, matriculas_2013_2, matriculas_2014_1,\n",
    "                        matriculas_2014_2, matriculas_2015_1, matriculas_2015_2,\n",
    "                        matriculas_2016_1,matriculas_2016_2, matriculas_2017_1])\n",
    "matriculas.shape"
   ]
  },
  {
   "cell_type": "code",
   "execution_count": 9,
   "metadata": {},
   "outputs": [],
   "source": [
    "#Renomear a coluna discente do data frame matriculas para id_discente\n",
    "\n",
    "matriculas.rename(columns={'discente':'id_discente'}, inplace=True)"
   ]
  },
  {
   "cell_type": "code",
   "execution_count": 13,
   "metadata": {},
   "outputs": [
    {
     "data": {
      "text/plain": [
       "(12365341, 10)"
      ]
     },
     "execution_count": 13,
     "metadata": {},
     "output_type": "execute_result"
    }
   ],
   "source": [
    "# Merge dos data frames matriculas e turmas\n",
    "colunas = [\"id_discente\", \"ano\", \"periodo\", \"renda\", \"escola_ens_medio\", \"possui_bolsa_pesquisa\",\n",
    "          \"possui_auxilio_alimentacao\", \"possui_auxilio_transporte\", \"possui_auxilio_residencia_moradia\",\n",
    "           \"id_curso\"]\n",
    "\n",
    "alunos = pd.merge(matriculas, turmas, on='id_discente')[colunas]\n",
    "alunos.shape"
   ]
  },
  {
   "cell_type": "code",
   "execution_count": 14,
   "metadata": {},
   "outputs": [
    {
     "data": {
      "text/html": [
       "<div>\n",
       "<style scoped>\n",
       "    .dataframe tbody tr th:only-of-type {\n",
       "        vertical-align: middle;\n",
       "    }\n",
       "\n",
       "    .dataframe tbody tr th {\n",
       "        vertical-align: top;\n",
       "    }\n",
       "\n",
       "    .dataframe thead th {\n",
       "        text-align: right;\n",
       "    }\n",
       "</style>\n",
       "<table border=\"1\" class=\"dataframe\">\n",
       "  <thead>\n",
       "    <tr style=\"text-align: right;\">\n",
       "      <th></th>\n",
       "      <th>id_discente</th>\n",
       "      <th>ano</th>\n",
       "      <th>periodo</th>\n",
       "      <th>renda</th>\n",
       "      <th>escola_ens_medio</th>\n",
       "      <th>possui_bolsa_pesquisa</th>\n",
       "      <th>possui_auxilio_alimentacao</th>\n",
       "      <th>possui_auxilio_transporte</th>\n",
       "      <th>possui_auxilio_residencia_moradia</th>\n",
       "      <th>id_curso</th>\n",
       "    </tr>\n",
       "  </thead>\n",
       "  <tbody>\n",
       "    <tr>\n",
       "      <th>0</th>\n",
       "      <td>6fdf84192e10810368fbe2af7f8fefcb</td>\n",
       "      <td>2013</td>\n",
       "      <td>1</td>\n",
       "      <td>NaN</td>\n",
       "      <td>NaN</td>\n",
       "      <td>f</td>\n",
       "      <td>t</td>\n",
       "      <td>f</td>\n",
       "      <td>t</td>\n",
       "      <td>2000002.0</td>\n",
       "    </tr>\n",
       "    <tr>\n",
       "      <th>1</th>\n",
       "      <td>6fdf84192e10810368fbe2af7f8fefcb</td>\n",
       "      <td>2013</td>\n",
       "      <td>2</td>\n",
       "      <td>NaN</td>\n",
       "      <td>NaN</td>\n",
       "      <td>f</td>\n",
       "      <td>t</td>\n",
       "      <td>f</td>\n",
       "      <td>t</td>\n",
       "      <td>2000002.0</td>\n",
       "    </tr>\n",
       "    <tr>\n",
       "      <th>2</th>\n",
       "      <td>6fdf84192e10810368fbe2af7f8fefcb</td>\n",
       "      <td>2014</td>\n",
       "      <td>1</td>\n",
       "      <td>1356.0</td>\n",
       "      <td>Todo em escola publica</td>\n",
       "      <td>f</td>\n",
       "      <td>t</td>\n",
       "      <td>f</td>\n",
       "      <td>t</td>\n",
       "      <td>2000002.0</td>\n",
       "    </tr>\n",
       "    <tr>\n",
       "      <th>3</th>\n",
       "      <td>6fdf84192e10810368fbe2af7f8fefcb</td>\n",
       "      <td>2014</td>\n",
       "      <td>2</td>\n",
       "      <td>1356.0</td>\n",
       "      <td>Todo em escola publica</td>\n",
       "      <td>f</td>\n",
       "      <td>t</td>\n",
       "      <td>f</td>\n",
       "      <td>t</td>\n",
       "      <td>2000002.0</td>\n",
       "    </tr>\n",
       "    <tr>\n",
       "      <th>4</th>\n",
       "      <td>6fdf84192e10810368fbe2af7f8fefcb</td>\n",
       "      <td>2015</td>\n",
       "      <td>1</td>\n",
       "      <td>1356.0</td>\n",
       "      <td>Todo em escola publica</td>\n",
       "      <td>f</td>\n",
       "      <td>t</td>\n",
       "      <td>f</td>\n",
       "      <td>t</td>\n",
       "      <td>2000002.0</td>\n",
       "    </tr>\n",
       "  </tbody>\n",
       "</table>\n",
       "</div>"
      ],
      "text/plain": [
       "                        id_discente   ano  periodo   renda  \\\n",
       "0  6fdf84192e10810368fbe2af7f8fefcb  2013        1     NaN   \n",
       "1  6fdf84192e10810368fbe2af7f8fefcb  2013        2     NaN   \n",
       "2  6fdf84192e10810368fbe2af7f8fefcb  2014        1  1356.0   \n",
       "3  6fdf84192e10810368fbe2af7f8fefcb  2014        2  1356.0   \n",
       "4  6fdf84192e10810368fbe2af7f8fefcb  2015        1  1356.0   \n",
       "\n",
       "          escola_ens_medio possui_bolsa_pesquisa possui_auxilio_alimentacao  \\\n",
       "0                      NaN                     f                          t   \n",
       "1                      NaN                     f                          t   \n",
       "2  Todo em escola publica                      f                          t   \n",
       "3  Todo em escola publica                      f                          t   \n",
       "4  Todo em escola publica                      f                          t   \n",
       "\n",
       "  possui_auxilio_transporte possui_auxilio_residencia_moradia   id_curso  \n",
       "0                         f                                 t  2000002.0  \n",
       "1                         f                                 t  2000002.0  \n",
       "2                         f                                 t  2000002.0  \n",
       "3                         f                                 t  2000002.0  \n",
       "4                         f                                 t  2000002.0  "
      ]
     },
     "execution_count": 14,
     "metadata": {},
     "output_type": "execute_result"
    }
   ],
   "source": [
    "alunos.head()"
   ]
  },
  {
   "cell_type": "code",
   "execution_count": 15,
   "metadata": {},
   "outputs": [],
   "source": [
    "#Merge dos data frames alunos (resultado do merge anterior) e complemento\n",
    "\n",
    "colunas = [\"id_discente\", \"ano\", \"periodo\", \"renda\", \"escola_ens_medio\", \"id_curso\", \n",
    "           \"sexo\", \"data_nascimento\", \"raca\", \"estado_origem\", \"cidade_origem\", \"estado\",\n",
    "           \"municipio\", \"bairro\", \"ano_ingresso\", \"periodo_ingresso\", \"cotista\"]\n",
    "\n",
    "alunos = pd.merge(alunos, complemento, on='id_discente')[colunas]"
   ]
  },
  {
   "cell_type": "code",
   "execution_count": 16,
   "metadata": {},
   "outputs": [
    {
     "data": {
      "text/html": [
       "<div>\n",
       "<style scoped>\n",
       "    .dataframe tbody tr th:only-of-type {\n",
       "        vertical-align: middle;\n",
       "    }\n",
       "\n",
       "    .dataframe tbody tr th {\n",
       "        vertical-align: top;\n",
       "    }\n",
       "\n",
       "    .dataframe thead th {\n",
       "        text-align: right;\n",
       "    }\n",
       "</style>\n",
       "<table border=\"1\" class=\"dataframe\">\n",
       "  <thead>\n",
       "    <tr style=\"text-align: right;\">\n",
       "      <th></th>\n",
       "      <th>id_discente</th>\n",
       "      <th>ano</th>\n",
       "      <th>periodo</th>\n",
       "      <th>renda</th>\n",
       "      <th>escola_ens_medio</th>\n",
       "      <th>id_curso</th>\n",
       "      <th>sexo</th>\n",
       "      <th>data_nascimento</th>\n",
       "      <th>raca</th>\n",
       "      <th>estado_origem</th>\n",
       "      <th>cidade_origem</th>\n",
       "      <th>estado</th>\n",
       "      <th>municipio</th>\n",
       "      <th>bairro</th>\n",
       "      <th>ano_ingresso</th>\n",
       "      <th>periodo_ingresso</th>\n",
       "      <th>cotista</th>\n",
       "    </tr>\n",
       "  </thead>\n",
       "  <tbody>\n",
       "    <tr>\n",
       "      <th>0</th>\n",
       "      <td>6fdf84192e10810368fbe2af7f8fefcb</td>\n",
       "      <td>2013</td>\n",
       "      <td>1</td>\n",
       "      <td>NaN</td>\n",
       "      <td>NaN</td>\n",
       "      <td>2000002.0</td>\n",
       "      <td>F</td>\n",
       "      <td>21-05-1994</td>\n",
       "      <td>Branco</td>\n",
       "      <td>Rio Grande do Norte</td>\n",
       "      <td>NATAL</td>\n",
       "      <td>Rio Grande do Norte</td>\n",
       "      <td>PEDRO VELHO</td>\n",
       "      <td>CENTRO</td>\n",
       "      <td>2012</td>\n",
       "      <td>1.0</td>\n",
       "      <td>f</td>\n",
       "    </tr>\n",
       "    <tr>\n",
       "      <th>1</th>\n",
       "      <td>6fdf84192e10810368fbe2af7f8fefcb</td>\n",
       "      <td>2013</td>\n",
       "      <td>2</td>\n",
       "      <td>NaN</td>\n",
       "      <td>NaN</td>\n",
       "      <td>2000002.0</td>\n",
       "      <td>F</td>\n",
       "      <td>21-05-1994</td>\n",
       "      <td>Branco</td>\n",
       "      <td>Rio Grande do Norte</td>\n",
       "      <td>NATAL</td>\n",
       "      <td>Rio Grande do Norte</td>\n",
       "      <td>PEDRO VELHO</td>\n",
       "      <td>CENTRO</td>\n",
       "      <td>2012</td>\n",
       "      <td>1.0</td>\n",
       "      <td>f</td>\n",
       "    </tr>\n",
       "    <tr>\n",
       "      <th>2</th>\n",
       "      <td>6fdf84192e10810368fbe2af7f8fefcb</td>\n",
       "      <td>2014</td>\n",
       "      <td>1</td>\n",
       "      <td>1356.0</td>\n",
       "      <td>Todo em escola publica</td>\n",
       "      <td>2000002.0</td>\n",
       "      <td>F</td>\n",
       "      <td>21-05-1994</td>\n",
       "      <td>Branco</td>\n",
       "      <td>Rio Grande do Norte</td>\n",
       "      <td>NATAL</td>\n",
       "      <td>Rio Grande do Norte</td>\n",
       "      <td>PEDRO VELHO</td>\n",
       "      <td>CENTRO</td>\n",
       "      <td>2012</td>\n",
       "      <td>1.0</td>\n",
       "      <td>f</td>\n",
       "    </tr>\n",
       "    <tr>\n",
       "      <th>3</th>\n",
       "      <td>6fdf84192e10810368fbe2af7f8fefcb</td>\n",
       "      <td>2014</td>\n",
       "      <td>2</td>\n",
       "      <td>1356.0</td>\n",
       "      <td>Todo em escola publica</td>\n",
       "      <td>2000002.0</td>\n",
       "      <td>F</td>\n",
       "      <td>21-05-1994</td>\n",
       "      <td>Branco</td>\n",
       "      <td>Rio Grande do Norte</td>\n",
       "      <td>NATAL</td>\n",
       "      <td>Rio Grande do Norte</td>\n",
       "      <td>PEDRO VELHO</td>\n",
       "      <td>CENTRO</td>\n",
       "      <td>2012</td>\n",
       "      <td>1.0</td>\n",
       "      <td>f</td>\n",
       "    </tr>\n",
       "    <tr>\n",
       "      <th>4</th>\n",
       "      <td>6fdf84192e10810368fbe2af7f8fefcb</td>\n",
       "      <td>2015</td>\n",
       "      <td>1</td>\n",
       "      <td>1356.0</td>\n",
       "      <td>Todo em escola publica</td>\n",
       "      <td>2000002.0</td>\n",
       "      <td>F</td>\n",
       "      <td>21-05-1994</td>\n",
       "      <td>Branco</td>\n",
       "      <td>Rio Grande do Norte</td>\n",
       "      <td>NATAL</td>\n",
       "      <td>Rio Grande do Norte</td>\n",
       "      <td>PEDRO VELHO</td>\n",
       "      <td>CENTRO</td>\n",
       "      <td>2012</td>\n",
       "      <td>1.0</td>\n",
       "      <td>f</td>\n",
       "    </tr>\n",
       "  </tbody>\n",
       "</table>\n",
       "</div>"
      ],
      "text/plain": [
       "                        id_discente   ano  periodo   renda  \\\n",
       "0  6fdf84192e10810368fbe2af7f8fefcb  2013        1     NaN   \n",
       "1  6fdf84192e10810368fbe2af7f8fefcb  2013        2     NaN   \n",
       "2  6fdf84192e10810368fbe2af7f8fefcb  2014        1  1356.0   \n",
       "3  6fdf84192e10810368fbe2af7f8fefcb  2014        2  1356.0   \n",
       "4  6fdf84192e10810368fbe2af7f8fefcb  2015        1  1356.0   \n",
       "\n",
       "          escola_ens_medio   id_curso sexo data_nascimento    raca  \\\n",
       "0                      NaN  2000002.0    F      21-05-1994  Branco   \n",
       "1                      NaN  2000002.0    F      21-05-1994  Branco   \n",
       "2  Todo em escola publica   2000002.0    F      21-05-1994  Branco   \n",
       "3  Todo em escola publica   2000002.0    F      21-05-1994  Branco   \n",
       "4  Todo em escola publica   2000002.0    F      21-05-1994  Branco   \n",
       "\n",
       "         estado_origem cidade_origem               estado    municipio  \\\n",
       "0  Rio Grande do Norte         NATAL  Rio Grande do Norte  PEDRO VELHO   \n",
       "1  Rio Grande do Norte         NATAL  Rio Grande do Norte  PEDRO VELHO   \n",
       "2  Rio Grande do Norte         NATAL  Rio Grande do Norte  PEDRO VELHO   \n",
       "3  Rio Grande do Norte         NATAL  Rio Grande do Norte  PEDRO VELHO   \n",
       "4  Rio Grande do Norte         NATAL  Rio Grande do Norte  PEDRO VELHO   \n",
       "\n",
       "   bairro  ano_ingresso  periodo_ingresso cotista  \n",
       "0  CENTRO          2012               1.0       f  \n",
       "1  CENTRO          2012               1.0       f  \n",
       "2  CENTRO          2012               1.0       f  \n",
       "3  CENTRO          2012               1.0       f  \n",
       "4  CENTRO          2012               1.0       f  "
      ]
     },
     "execution_count": 16,
     "metadata": {},
     "output_type": "execute_result"
    }
   ],
   "source": [
    "alunos.head()"
   ]
  },
  {
   "cell_type": "code",
   "execution_count": 17,
   "metadata": {},
   "outputs": [
    {
     "data": {
      "text/plain": [
       "(34449, 17)"
      ]
     },
     "execution_count": 17,
     "metadata": {},
     "output_type": "execute_result"
    }
   ],
   "source": [
    "#Remove os alunos repetidos, usando id_discente como primary key\n",
    "\n",
    "alunos.drop_duplicates(subset='id_discente', keep='first', inplace=True)\n",
    "alunos.shape"
   ]
  },
  {
   "cell_type": "code",
   "execution_count": 18,
   "metadata": {},
   "outputs": [
    {
     "data": {
      "text/plain": [
       "(694, 17)"
      ]
     },
     "execution_count": 18,
     "metadata": {},
     "output_type": "execute_result"
    }
   ],
   "source": [
    "#Filtra apenas os alunos do BTI. Id do curso BTI = 92127264.0, pode ser consultada na tabela cursos\n",
    "\n",
    "alunos_imd = alunos.loc[(alunos['id_curso'] == 92127264.0)]\n",
    "alunos_imd.shape"
   ]
  },
  {
   "cell_type": "code",
   "execution_count": 19,
   "metadata": {},
   "outputs": [
    {
     "data": {
      "text/plain": [
       "array(['M', 'F'], dtype=object)"
      ]
     },
     "execution_count": 19,
     "metadata": {},
     "output_type": "execute_result"
    }
   ],
   "source": [
    "alunos_imd.sexo.unique()"
   ]
  },
  {
   "cell_type": "code",
   "execution_count": 20,
   "metadata": {},
   "outputs": [
    {
     "data": {
      "text/html": [
       "<div>\n",
       "<style scoped>\n",
       "    .dataframe tbody tr th:only-of-type {\n",
       "        vertical-align: middle;\n",
       "    }\n",
       "\n",
       "    .dataframe tbody tr th {\n",
       "        vertical-align: top;\n",
       "    }\n",
       "\n",
       "    .dataframe thead th {\n",
       "        text-align: right;\n",
       "    }\n",
       "</style>\n",
       "<table border=\"1\" class=\"dataframe\">\n",
       "  <thead>\n",
       "    <tr style=\"text-align: right;\">\n",
       "      <th></th>\n",
       "      <th>id_discente</th>\n",
       "      <th>ano</th>\n",
       "      <th>periodo</th>\n",
       "      <th>renda</th>\n",
       "      <th>escola_ens_medio</th>\n",
       "      <th>id_curso</th>\n",
       "      <th>sexo</th>\n",
       "      <th>data_nascimento</th>\n",
       "      <th>raca</th>\n",
       "      <th>estado_origem</th>\n",
       "      <th>cidade_origem</th>\n",
       "      <th>estado</th>\n",
       "      <th>municipio</th>\n",
       "      <th>bairro</th>\n",
       "      <th>ano_ingresso</th>\n",
       "      <th>periodo_ingresso</th>\n",
       "      <th>cotista</th>\n",
       "    </tr>\n",
       "  </thead>\n",
       "  <tbody>\n",
       "    <tr>\n",
       "      <th>244612</th>\n",
       "      <td>da437177e090ab90ea33ba772cfbae03</td>\n",
       "      <td>2014</td>\n",
       "      <td>1</td>\n",
       "      <td>7500.0</td>\n",
       "      <td>Todo em escola publica</td>\n",
       "      <td>92127264.0</td>\n",
       "      <td>M</td>\n",
       "      <td>15-05-1991</td>\n",
       "      <td>Branco</td>\n",
       "      <td>Rio Grande do Norte</td>\n",
       "      <td>MACAU</td>\n",
       "      <td>Rio Grande do Norte</td>\n",
       "      <td>NATAL</td>\n",
       "      <td>NOSSA SENHORA DE NAZARÉ</td>\n",
       "      <td>2013</td>\n",
       "      <td>1.0</td>\n",
       "      <td>f</td>\n",
       "    </tr>\n",
       "    <tr>\n",
       "      <th>245926</th>\n",
       "      <td>7dd1c07f788951271820d1cb7b1b5bf7</td>\n",
       "      <td>2013</td>\n",
       "      <td>1</td>\n",
       "      <td>NaN</td>\n",
       "      <td>NaN</td>\n",
       "      <td>92127264.0</td>\n",
       "      <td>M</td>\n",
       "      <td>20-05-1990</td>\n",
       "      <td>Pardo</td>\n",
       "      <td>Rio Grande do Norte</td>\n",
       "      <td>PARNAMIRIM</td>\n",
       "      <td>Rio Grande do Norte</td>\n",
       "      <td>PARNAMIRIM</td>\n",
       "      <td>NOVA PARNAMIRIM</td>\n",
       "      <td>2013</td>\n",
       "      <td>1.0</td>\n",
       "      <td>f</td>\n",
       "    </tr>\n",
       "    <tr>\n",
       "      <th>246092</th>\n",
       "      <td>2d546606bfbf2094137a4dcfacf5e12f</td>\n",
       "      <td>2013</td>\n",
       "      <td>2</td>\n",
       "      <td>NaN</td>\n",
       "      <td>NaN</td>\n",
       "      <td>92127264.0</td>\n",
       "      <td>M</td>\n",
       "      <td>25-07-1982</td>\n",
       "      <td>Indígeno</td>\n",
       "      <td>Rio Grande do Norte</td>\n",
       "      <td>NATAL</td>\n",
       "      <td>Rio Grande do Norte</td>\n",
       "      <td>NATAL</td>\n",
       "      <td>PITIMBU</td>\n",
       "      <td>2013</td>\n",
       "      <td>1.0</td>\n",
       "      <td>f</td>\n",
       "    </tr>\n",
       "    <tr>\n",
       "      <th>246170</th>\n",
       "      <td>145440d461db004f5513e19a5ce783cd</td>\n",
       "      <td>2013</td>\n",
       "      <td>1</td>\n",
       "      <td>NaN</td>\n",
       "      <td>NaN</td>\n",
       "      <td>92127264.0</td>\n",
       "      <td>M</td>\n",
       "      <td>02-09-1983</td>\n",
       "      <td>Pardo</td>\n",
       "      <td>Rio Grande do Norte</td>\n",
       "      <td>NATAL</td>\n",
       "      <td>Rio Grande do Norte</td>\n",
       "      <td>NATAL</td>\n",
       "      <td>NOSSA SENHORA DE NAZARÉ</td>\n",
       "      <td>2013</td>\n",
       "      <td>1.0</td>\n",
       "      <td>f</td>\n",
       "    </tr>\n",
       "    <tr>\n",
       "      <th>246586</th>\n",
       "      <td>c6e6b75a1e8fb3912dc281802313a782</td>\n",
       "      <td>2014</td>\n",
       "      <td>1</td>\n",
       "      <td>6000.0</td>\n",
       "      <td>Todo em escola particular</td>\n",
       "      <td>92127264.0</td>\n",
       "      <td>M</td>\n",
       "      <td>05-01-1995</td>\n",
       "      <td>Branco</td>\n",
       "      <td>Rio Grande do Norte</td>\n",
       "      <td>PARNAMIRIM</td>\n",
       "      <td>Rio Grande do Norte</td>\n",
       "      <td>NATAL</td>\n",
       "      <td>NOVA PARNAMIRIM</td>\n",
       "      <td>2013</td>\n",
       "      <td>1.0</td>\n",
       "      <td>f</td>\n",
       "    </tr>\n",
       "  </tbody>\n",
       "</table>\n",
       "</div>"
      ],
      "text/plain": [
       "                             id_discente   ano  periodo   renda  \\\n",
       "244612  da437177e090ab90ea33ba772cfbae03  2014        1  7500.0   \n",
       "245926  7dd1c07f788951271820d1cb7b1b5bf7  2013        1     NaN   \n",
       "246092  2d546606bfbf2094137a4dcfacf5e12f  2013        2     NaN   \n",
       "246170  145440d461db004f5513e19a5ce783cd  2013        1     NaN   \n",
       "246586  c6e6b75a1e8fb3912dc281802313a782  2014        1  6000.0   \n",
       "\n",
       "                  escola_ens_medio    id_curso sexo data_nascimento      raca  \\\n",
       "244612     Todo em escola publica   92127264.0    M      15-05-1991    Branco   \n",
       "245926                         NaN  92127264.0    M      20-05-1990     Pardo   \n",
       "246092                         NaN  92127264.0    M      25-07-1982  Indígeno   \n",
       "246170                         NaN  92127264.0    M      02-09-1983     Pardo   \n",
       "246586  Todo em escola particular   92127264.0    M      05-01-1995    Branco   \n",
       "\n",
       "              estado_origem cidade_origem               estado   municipio  \\\n",
       "244612  Rio Grande do Norte         MACAU  Rio Grande do Norte       NATAL   \n",
       "245926  Rio Grande do Norte    PARNAMIRIM  Rio Grande do Norte  PARNAMIRIM   \n",
       "246092  Rio Grande do Norte         NATAL  Rio Grande do Norte       NATAL   \n",
       "246170  Rio Grande do Norte         NATAL  Rio Grande do Norte       NATAL   \n",
       "246586  Rio Grande do Norte    PARNAMIRIM  Rio Grande do Norte       NATAL   \n",
       "\n",
       "                         bairro  ano_ingresso  periodo_ingresso cotista  \n",
       "244612  NOSSA SENHORA DE NAZARÉ          2013               1.0       f  \n",
       "245926          NOVA PARNAMIRIM          2013               1.0       f  \n",
       "246092                  PITIMBU          2013               1.0       f  \n",
       "246170  NOSSA SENHORA DE NAZARÉ          2013               1.0       f  \n",
       "246586          NOVA PARNAMIRIM          2013               1.0       f  "
      ]
     },
     "execution_count": 20,
     "metadata": {},
     "output_type": "execute_result"
    }
   ],
   "source": [
    "alunos_imd.head()"
   ]
  },
  {
   "cell_type": "markdown",
   "metadata": {},
   "source": [
    "# Análise dos Dados"
   ]
  },
  {
   "cell_type": "markdown",
   "metadata": {},
   "source": [
    "## Objetivo\n",
    "Análise da situação atual das discentes do BTI através de dados quantitativos. "
   ]
  },
  {
   "cell_type": "code",
   "execution_count": 21,
   "metadata": {
    "scrolled": false
   },
   "outputs": [
    {
     "data": {
      "image/png": "[encoded data removed]",
      "text/plain": [
       "<Figure size 648x432 with 1 Axes>"
      ]
     },
     "metadata": {},
     "output_type": "display_data"
    }
   ],
   "source": [
    "#Carregar a configuração padrão de cores do Seaborn\n",
    "\n",
    "sns.set(font_scale=1.5)\n",
    "\n",
    "g = sns.factorplot(\"ano_ingresso\",  \n",
    "                   data=alunos_imd,\n",
    "                   kind=\"count\", size=6, \n",
    "                   aspect=1.5)\n",
    "\n",
    "plt.title('Quantidade de ingressantes no BTI')\n",
    "plt.xlabel('Período de 2013 a 2017')\n",
    "plt.ylabel('Quantidade')\n",
    "\n",
    "plt.show()"
   ]
  },
  {
   "cell_type": "markdown",
   "metadata": {},
   "source": [
    "Como podemos observar no gráfico acima, o ano que teve mais ingressantes no curso bacharelado em Tecnologia da Informação foi em 2016 com um total de 165 alunos."
   ]
  },
  {
   "cell_type": "code",
   "execution_count": 22,
   "metadata": {
    "scrolled": true
   },
   "outputs": [
    {
     "data": {
      "text/html": [
       "<div>\n",
       "<style scoped>\n",
       "    .dataframe tbody tr th:only-of-type {\n",
       "        vertical-align: middle;\n",
       "    }\n",
       "\n",
       "    .dataframe tbody tr th {\n",
       "        vertical-align: top;\n",
       "    }\n",
       "\n",
       "    .dataframe thead th {\n",
       "        text-align: right;\n",
       "    }\n",
       "</style>\n",
       "<table border=\"1\" class=\"dataframe\">\n",
       "  <thead>\n",
       "    <tr style=\"text-align: right;\">\n",
       "      <th>sexo</th>\n",
       "      <th>F</th>\n",
       "      <th>M</th>\n",
       "    </tr>\n",
       "    <tr>\n",
       "      <th>ano_ingresso</th>\n",
       "      <th></th>\n",
       "      <th></th>\n",
       "    </tr>\n",
       "  </thead>\n",
       "  <tbody>\n",
       "    <tr>\n",
       "      <th>2013</th>\n",
       "      <td>18</td>\n",
       "      <td>112</td>\n",
       "    </tr>\n",
       "    <tr>\n",
       "      <th>2014</th>\n",
       "      <td>12</td>\n",
       "      <td>118</td>\n",
       "    </tr>\n",
       "    <tr>\n",
       "      <th>2015</th>\n",
       "      <td>24</td>\n",
       "      <td>146</td>\n",
       "    </tr>\n",
       "    <tr>\n",
       "      <th>2016</th>\n",
       "      <td>19</td>\n",
       "      <td>146</td>\n",
       "    </tr>\n",
       "    <tr>\n",
       "      <th>2017</th>\n",
       "      <td>8</td>\n",
       "      <td>91</td>\n",
       "    </tr>\n",
       "  </tbody>\n",
       "</table>\n",
       "</div>"
      ],
      "text/plain": [
       "sexo           F    M\n",
       "ano_ingresso         \n",
       "2013          18  112\n",
       "2014          12  118\n",
       "2015          24  146\n",
       "2016          19  146\n",
       "2017           8   91"
      ]
     },
     "execution_count": 22,
     "metadata": {},
     "output_type": "execute_result"
    }
   ],
   "source": [
    "# pivotar a tabela e contar o número de alunos por sexo e organizados por ano pivotar \n",
    "alunos_imd_pivotado = alunos_imd.pivot_table(index='ano_ingresso', \n",
    "                                           columns='sexo',\n",
    "                                           values=\"id_discente\", aggfunc=np.size)\n",
    "alunos_imd_pivotado"
   ]
  },
  {
   "cell_type": "code",
   "execution_count": 23,
   "metadata": {
    "scrolled": false
   },
   "outputs": [
    {
     "data": {
      "image/png": "[encoded data removed]",
      "text/plain": [
       "<Figure size 432x288 with 1 Axes>"
      ]
     },
     "metadata": {},
     "output_type": "display_data"
    }
   ],
   "source": [
    "#Gerando gráfico\n",
    "alunos_imd_pivotado.groupby('ano_ingresso').mean().loc[:,['F','M']].plot(kind='bar',\n",
    "                    title='Quantidade de ingressantes por sexo',grid=False)\n",
    "\n",
    "plt.xticks(rotation='horizontal')\n",
    "plt.legend(loc='best')\n",
    "plt.xlabel('Ano ingresso')\n",
    "plt.show()"
   ]
  },
  {
   "cell_type": "markdown",
   "metadata": {},
   "source": [
    "O ano com o maior número de mulheres foi 2015, onde cerca de 24 mulheres passaram a integrar o corpo discente. O mais baixo foi 2014 onde apenas 12 eram mulheres, levando em consideração que ate o momento só temos os dados de 2017.1. Ao todo, de 2013 até o primeiro semestre de 2017, houve 694 alunos vinculados ao BTI e, desse número, apenas 81 são autodeclaradas do sexo feminino."
   ]
  },
  {
   "cell_type": "code",
   "execution_count": 24,
   "metadata": {},
   "outputs": [
    {
     "data": {
      "text/plain": [
       "694"
      ]
     },
     "execution_count": 24,
     "metadata": {},
     "output_type": "execute_result"
    }
   ],
   "source": [
    "alunos_imd.id_discente.value_counts().sum()"
   ]
  },
  {
   "cell_type": "code",
   "execution_count": 25,
   "metadata": {},
   "outputs": [
    {
     "name": "stderr",
     "output_type": "stream",
     "text": [
      "/home/bryan/anaconda3/lib/python3.6/site-packages/pandas/core/generic.py:3643: SettingWithCopyWarning: \n",
      "A value is trying to be set on a copy of a slice from a DataFrame.\n",
      "Try using .loc[row_indexer,col_indexer] = value instead\n",
      "\n",
      "See the caveats in the documentation: http://pandas.pydata.org/pandas-docs/stable/indexing.html#indexing-view-versus-copy\n",
      "  self[name] = value\n"
     ]
    }
   ],
   "source": [
    "#Altera os valores da coluna cotista, onde estava f (false) e mudado para não cotista, e t (true) para cotista\n",
    "alunos_imd.cotista = alunos_imd.cotista.apply(lambda x: x.replace('t', 'cotista'))\n",
    "alunos_imd.cotista = alunos_imd.cotista.apply(lambda x: x.replace('f', 'não cotista'))"
   ]
  },
  {
   "cell_type": "code",
   "execution_count": 26,
   "metadata": {},
   "outputs": [],
   "source": [
    "# Filtro para utilizar apenas os alunos do sexo \"F\"\n",
    "alunas_imd = alunos_imd[alunos_imd.sexo == 'F']"
   ]
  },
  {
   "cell_type": "code",
   "execution_count": 27,
   "metadata": {},
   "outputs": [
    {
     "data": {
      "text/html": [
       "<div>\n",
       "<style scoped>\n",
       "    .dataframe tbody tr th:only-of-type {\n",
       "        vertical-align: middle;\n",
       "    }\n",
       "\n",
       "    .dataframe tbody tr th {\n",
       "        vertical-align: top;\n",
       "    }\n",
       "\n",
       "    .dataframe thead th {\n",
       "        text-align: right;\n",
       "    }\n",
       "</style>\n",
       "<table border=\"1\" class=\"dataframe\">\n",
       "  <thead>\n",
       "    <tr style=\"text-align: right;\">\n",
       "      <th>cotista</th>\n",
       "      <th>cotista</th>\n",
       "      <th>não cotista</th>\n",
       "    </tr>\n",
       "    <tr>\n",
       "      <th>ano_ingresso</th>\n",
       "      <th></th>\n",
       "      <th></th>\n",
       "    </tr>\n",
       "  </thead>\n",
       "  <tbody>\n",
       "    <tr>\n",
       "      <th>2013</th>\n",
       "      <td>1</td>\n",
       "      <td>17</td>\n",
       "    </tr>\n",
       "    <tr>\n",
       "      <th>2014</th>\n",
       "      <td>2</td>\n",
       "      <td>10</td>\n",
       "    </tr>\n",
       "    <tr>\n",
       "      <th>2015</th>\n",
       "      <td>11</td>\n",
       "      <td>13</td>\n",
       "    </tr>\n",
       "    <tr>\n",
       "      <th>2016</th>\n",
       "      <td>7</td>\n",
       "      <td>12</td>\n",
       "    </tr>\n",
       "    <tr>\n",
       "      <th>2017</th>\n",
       "      <td>5</td>\n",
       "      <td>3</td>\n",
       "    </tr>\n",
       "  </tbody>\n",
       "</table>\n",
       "</div>"
      ],
      "text/plain": [
       "cotista       cotista  não cotista\n",
       "ano_ingresso                      \n",
       "2013                1           17\n",
       "2014                2           10\n",
       "2015               11           13\n",
       "2016                7           12\n",
       "2017                5            3"
      ]
     },
     "execution_count": 27,
     "metadata": {},
     "output_type": "execute_result"
    }
   ],
   "source": [
    "# pivotar a tabela e contar o número de alunas cotistas e organizadas por ano# pivotar \n",
    "alunas_imd_pivotado1 = alunas_imd.pivot_table(index='ano_ingresso', \n",
    "                                           columns='cotista',\n",
    "                                           values='id_discente', aggfunc=np.size)\n",
    "alunas_imd_pivotado1"
   ]
  },
  {
   "cell_type": "code",
   "execution_count": 28,
   "metadata": {
    "scrolled": false
   },
   "outputs": [
    {
     "data": {
      "image/png": "[encoded data removed]",
      "text/plain": [
       "<Figure size 432x288 with 1 Axes>"
      ]
     },
     "metadata": {},
     "output_type": "display_data"
    }
   ],
   "source": [
    "#Gerando gráfico //obs:  f = FALSE, t = TRUE\n",
    "alunas_imd_pivotado1.groupby('ano_ingresso').mean().loc[:,['não cotista','cotista']].plot(kind='bar',\n",
    "                            title='Quantidade de ingressantes mulheres cotistas e não cotistas ',grid=False)\n",
    "\n",
    "plt.xticks(rotation='horizontal')\n",
    "plt.legend(loc='best')\n",
    "plt.xlabel('Ano ingresso')\n",
    "plt.show()"
   ]
  },
  {
   "cell_type": "code",
   "execution_count": 29,
   "metadata": {
    "scrolled": true
   },
   "outputs": [
    {
     "data": {
      "text/html": [
       "<div>\n",
       "<style scoped>\n",
       "    .dataframe tbody tr th:only-of-type {\n",
       "        vertical-align: middle;\n",
       "    }\n",
       "\n",
       "    .dataframe tbody tr th {\n",
       "        vertical-align: top;\n",
       "    }\n",
       "\n",
       "    .dataframe thead th {\n",
       "        text-align: right;\n",
       "    }\n",
       "</style>\n",
       "<table border=\"1\" class=\"dataframe\">\n",
       "  <thead>\n",
       "    <tr style=\"text-align: right;\">\n",
       "      <th>raca</th>\n",
       "      <th>Branco</th>\n",
       "      <th>Negro</th>\n",
       "      <th>Não Informado</th>\n",
       "      <th>Pardo</th>\n",
       "    </tr>\n",
       "    <tr>\n",
       "      <th>ano_ingresso</th>\n",
       "      <th></th>\n",
       "      <th></th>\n",
       "      <th></th>\n",
       "      <th></th>\n",
       "    </tr>\n",
       "  </thead>\n",
       "  <tbody>\n",
       "    <tr>\n",
       "      <th>2013</th>\n",
       "      <td>8.0</td>\n",
       "      <td>0.0</td>\n",
       "      <td>1.0</td>\n",
       "      <td>9.0</td>\n",
       "    </tr>\n",
       "    <tr>\n",
       "      <th>2014</th>\n",
       "      <td>4.0</td>\n",
       "      <td>0.0</td>\n",
       "      <td>0.0</td>\n",
       "      <td>8.0</td>\n",
       "    </tr>\n",
       "    <tr>\n",
       "      <th>2015</th>\n",
       "      <td>8.0</td>\n",
       "      <td>2.0</td>\n",
       "      <td>1.0</td>\n",
       "      <td>13.0</td>\n",
       "    </tr>\n",
       "    <tr>\n",
       "      <th>2016</th>\n",
       "      <td>9.0</td>\n",
       "      <td>0.0</td>\n",
       "      <td>4.0</td>\n",
       "      <td>6.0</td>\n",
       "    </tr>\n",
       "    <tr>\n",
       "      <th>2017</th>\n",
       "      <td>2.0</td>\n",
       "      <td>1.0</td>\n",
       "      <td>0.0</td>\n",
       "      <td>5.0</td>\n",
       "    </tr>\n",
       "  </tbody>\n",
       "</table>\n",
       "</div>"
      ],
      "text/plain": [
       "raca          Branco  Negro  Não Informado  Pardo\n",
       "ano_ingresso                                     \n",
       "2013             8.0    0.0            1.0    9.0\n",
       "2014             4.0    0.0            0.0    8.0\n",
       "2015             8.0    2.0            1.0   13.0\n",
       "2016             9.0    0.0            4.0    6.0\n",
       "2017             2.0    1.0            0.0    5.0"
      ]
     },
     "execution_count": 29,
     "metadata": {},
     "output_type": "execute_result"
    }
   ],
   "source": [
    "# pivotar a tabela e contar o número de alunas por etnia e organizadas por ano\n",
    "alunas_imd_pivotado2 = alunas_imd.pivot_table(index='ano_ingresso', \n",
    "                                           columns='raca',\n",
    "                                           values=\"id_discente\", aggfunc=np.size)\n",
    "\n",
    "# em alguns anos não mulheres cotistas, completar o nan com o valor zero\n",
    "alunas_imd_pivotado2.fillna(0,inplace=True)\n",
    "alunas_imd_pivotado2"
   ]
  },
  {
   "cell_type": "code",
   "execution_count": 30,
   "metadata": {
    "scrolled": true
   },
   "outputs": [
    {
     "data": {
      "image/png": "[encoded data removed]",
      "text/plain": [
       "<Figure size 432x288 with 1 Axes>"
      ]
     },
     "metadata": {},
     "output_type": "display_data"
    }
   ],
   "source": [
    "#Gerando gráfico \n",
    "alunas_imd_pivotado2.groupby('ano_ingresso').mean().loc[:,['Branco','Negro', 'Pardo']].plot(kind='bar'\n",
    "                            ,title='Total de mulheres ingressantes por identificação étnica ',grid=False)\n",
    "\n",
    "plt.xticks(rotation='horizontal')\n",
    "plt.legend(loc='best')\n",
    "plt.xlabel('Ano ingresso')\n",
    "plt.show()"
   ]
  },
  {
   "cell_type": "code",
   "execution_count": 31,
   "metadata": {
    "scrolled": true
   },
   "outputs": [
    {
     "data": {
      "text/html": [
       "<div>\n",
       "<style scoped>\n",
       "    .dataframe tbody tr th:only-of-type {\n",
       "        vertical-align: middle;\n",
       "    }\n",
       "\n",
       "    .dataframe tbody tr th {\n",
       "        vertical-align: top;\n",
       "    }\n",
       "\n",
       "    .dataframe thead th {\n",
       "        text-align: right;\n",
       "    }\n",
       "</style>\n",
       "<table border=\"1\" class=\"dataframe\">\n",
       "  <thead>\n",
       "    <tr style=\"text-align: right;\">\n",
       "      <th>bairro</th>\n",
       "      <th>CANDELÁRIA</th>\n",
       "      <th>CAPIM MACIO</th>\n",
       "      <th>CIDADE DA ESPERANÇA</th>\n",
       "      <th>DIX-SEPT ROSADO</th>\n",
       "      <th>FELIPE CAMARÃO</th>\n",
       "      <th>LAGOA NOVA</th>\n",
       "      <th>LAGOA SECA</th>\n",
       "      <th>Lagoa Nova</th>\n",
       "      <th>NEÓPOLIS</th>\n",
       "      <th>NORDESTE</th>\n",
       "      <th>NOSSA SENHORA DA APRESENTAÇÃO</th>\n",
       "      <th>Neópolis</th>\n",
       "      <th>PAJUÇARA</th>\n",
       "      <th>PITIMBU</th>\n",
       "      <th>PLANALTO</th>\n",
       "      <th>PONTA NEGRA</th>\n",
       "      <th>POTENGI</th>\n",
       "      <th>QUINTAS</th>\n",
       "      <th>REDINHA</th>\n",
       "      <th>TIROL</th>\n",
       "    </tr>\n",
       "    <tr>\n",
       "      <th>ano_ingresso</th>\n",
       "      <th></th>\n",
       "      <th></th>\n",
       "      <th></th>\n",
       "      <th></th>\n",
       "      <th></th>\n",
       "      <th></th>\n",
       "      <th></th>\n",
       "      <th></th>\n",
       "      <th></th>\n",
       "      <th></th>\n",
       "      <th></th>\n",
       "      <th></th>\n",
       "      <th></th>\n",
       "      <th></th>\n",
       "      <th></th>\n",
       "      <th></th>\n",
       "      <th></th>\n",
       "      <th></th>\n",
       "      <th></th>\n",
       "      <th></th>\n",
       "    </tr>\n",
       "  </thead>\n",
       "  <tbody>\n",
       "    <tr>\n",
       "      <th>2013</th>\n",
       "      <td>1.0</td>\n",
       "      <td>2.0</td>\n",
       "      <td>0.0</td>\n",
       "      <td>0.0</td>\n",
       "      <td>0.0</td>\n",
       "      <td>0.0</td>\n",
       "      <td>0.0</td>\n",
       "      <td>0.0</td>\n",
       "      <td>1.0</td>\n",
       "      <td>0.0</td>\n",
       "      <td>3.0</td>\n",
       "      <td>0.0</td>\n",
       "      <td>0.0</td>\n",
       "      <td>3.0</td>\n",
       "      <td>0.0</td>\n",
       "      <td>1.0</td>\n",
       "      <td>1.0</td>\n",
       "      <td>1.0</td>\n",
       "      <td>1.0</td>\n",
       "      <td>0.0</td>\n",
       "    </tr>\n",
       "    <tr>\n",
       "      <th>2014</th>\n",
       "      <td>2.0</td>\n",
       "      <td>1.0</td>\n",
       "      <td>0.0</td>\n",
       "      <td>0.0</td>\n",
       "      <td>0.0</td>\n",
       "      <td>0.0</td>\n",
       "      <td>1.0</td>\n",
       "      <td>1.0</td>\n",
       "      <td>1.0</td>\n",
       "      <td>0.0</td>\n",
       "      <td>0.0</td>\n",
       "      <td>0.0</td>\n",
       "      <td>0.0</td>\n",
       "      <td>0.0</td>\n",
       "      <td>0.0</td>\n",
       "      <td>0.0</td>\n",
       "      <td>2.0</td>\n",
       "      <td>0.0</td>\n",
       "      <td>0.0</td>\n",
       "      <td>0.0</td>\n",
       "    </tr>\n",
       "    <tr>\n",
       "      <th>2015</th>\n",
       "      <td>0.0</td>\n",
       "      <td>0.0</td>\n",
       "      <td>0.0</td>\n",
       "      <td>1.0</td>\n",
       "      <td>1.0</td>\n",
       "      <td>1.0</td>\n",
       "      <td>1.0</td>\n",
       "      <td>0.0</td>\n",
       "      <td>2.0</td>\n",
       "      <td>0.0</td>\n",
       "      <td>1.0</td>\n",
       "      <td>0.0</td>\n",
       "      <td>1.0</td>\n",
       "      <td>1.0</td>\n",
       "      <td>0.0</td>\n",
       "      <td>0.0</td>\n",
       "      <td>1.0</td>\n",
       "      <td>0.0</td>\n",
       "      <td>0.0</td>\n",
       "      <td>0.0</td>\n",
       "    </tr>\n",
       "    <tr>\n",
       "      <th>2016</th>\n",
       "      <td>0.0</td>\n",
       "      <td>0.0</td>\n",
       "      <td>1.0</td>\n",
       "      <td>0.0</td>\n",
       "      <td>0.0</td>\n",
       "      <td>0.0</td>\n",
       "      <td>0.0</td>\n",
       "      <td>1.0</td>\n",
       "      <td>0.0</td>\n",
       "      <td>0.0</td>\n",
       "      <td>0.0</td>\n",
       "      <td>0.0</td>\n",
       "      <td>0.0</td>\n",
       "      <td>0.0</td>\n",
       "      <td>1.0</td>\n",
       "      <td>1.0</td>\n",
       "      <td>0.0</td>\n",
       "      <td>1.0</td>\n",
       "      <td>0.0</td>\n",
       "      <td>2.0</td>\n",
       "    </tr>\n",
       "    <tr>\n",
       "      <th>2017</th>\n",
       "      <td>0.0</td>\n",
       "      <td>0.0</td>\n",
       "      <td>0.0</td>\n",
       "      <td>0.0</td>\n",
       "      <td>0.0</td>\n",
       "      <td>0.0</td>\n",
       "      <td>0.0</td>\n",
       "      <td>0.0</td>\n",
       "      <td>0.0</td>\n",
       "      <td>1.0</td>\n",
       "      <td>0.0</td>\n",
       "      <td>1.0</td>\n",
       "      <td>0.0</td>\n",
       "      <td>0.0</td>\n",
       "      <td>0.0</td>\n",
       "      <td>1.0</td>\n",
       "      <td>0.0</td>\n",
       "      <td>0.0</td>\n",
       "      <td>0.0</td>\n",
       "      <td>0.0</td>\n",
       "    </tr>\n",
       "  </tbody>\n",
       "</table>\n",
       "</div>"
      ],
      "text/plain": [
       "bairro        CANDELÁRIA  CAPIM MACIO  CIDADE DA ESPERANÇA  DIX-SEPT ROSADO  \\\n",
       "ano_ingresso                                                                  \n",
       "2013                 1.0          2.0                  0.0              0.0   \n",
       "2014                 2.0          1.0                  0.0              0.0   \n",
       "2015                 0.0          0.0                  0.0              1.0   \n",
       "2016                 0.0          0.0                  1.0              0.0   \n",
       "2017                 0.0          0.0                  0.0              0.0   \n",
       "\n",
       "bairro        FELIPE CAMARÃO  LAGOA NOVA  LAGOA SECA  Lagoa Nova  NEÓPOLIS  \\\n",
       "ano_ingresso                                                                 \n",
       "2013                     0.0         0.0         0.0         0.0       1.0   \n",
       "2014                     0.0         0.0         1.0         1.0       1.0   \n",
       "2015                     1.0         1.0         1.0         0.0       2.0   \n",
       "2016                     0.0         0.0         0.0         1.0       0.0   \n",
       "2017                     0.0         0.0         0.0         0.0       0.0   \n",
       "\n",
       "bairro        NORDESTE  NOSSA SENHORA DA APRESENTAÇÃO  Neópolis  PAJUÇARA  \\\n",
       "ano_ingresso                                                                \n",
       "2013               0.0                            3.0       0.0       0.0   \n",
       "2014               0.0                            0.0       0.0       0.0   \n",
       "2015               0.0                            1.0       0.0       1.0   \n",
       "2016               0.0                            0.0       0.0       0.0   \n",
       "2017               1.0                            0.0       1.0       0.0   \n",
       "\n",
       "bairro        PITIMBU  PLANALTO  PONTA NEGRA  POTENGI  QUINTAS  REDINHA  TIROL  \n",
       "ano_ingresso                                                                    \n",
       "2013              3.0       0.0          1.0      1.0      1.0      1.0    0.0  \n",
       "2014              0.0       0.0          0.0      2.0      0.0      0.0    0.0  \n",
       "2015              1.0       0.0          0.0      1.0      0.0      0.0    0.0  \n",
       "2016              0.0       1.0          1.0      0.0      1.0      0.0    2.0  \n",
       "2017              0.0       0.0          1.0      0.0      0.0      0.0    0.0  "
      ]
     },
     "execution_count": 31,
     "metadata": {},
     "output_type": "execute_result"
    }
   ],
   "source": [
    "# Filtro para utilizar apenas os alunos do sexo \"F\"\n",
    "alunas_imd_n = alunas_imd[alunas_imd.municipio == 'NATAL']\n",
    "\n",
    "# pivotar a tabela e contar o número de alunas por etnia e organizadas por ano# pivotar \n",
    "alunas_imd_pivotado3 = alunas_imd_n.pivot_table(index='ano_ingresso', \n",
    "                                           columns='bairro',\n",
    "                                           values=\"id_discente\", aggfunc=np.size)\n",
    "\n",
    "# em alguns anos não mulheres cotistas, completar o nan com o valor zero\n",
    "alunas_imd_pivotado3.fillna(0,inplace=True)\n",
    "alunas_imd_pivotado3"
   ]
  },
  {
   "cell_type": "markdown",
   "metadata": {},
   "source": [
    "Analisando o perfil das mulheres que chegam até o curso, é possível notar que a maior parte delas vive em situação de vantagem social. A minoria das alunas são negras ou remanescentes de quilombo, enquanto a grande maioria é composta por autodeclaradas pardas ou brancas. Dentre as ingressantes que vivem na capital do estado, predominam as oriundas de zona privilegiada (53% moram na zona sul da cidade), onde encontra-se a maioria da população de classe média-alta. No total, apenas 32% das discentes do sexo feminino usufruíram do sistema de cotas."
   ]
  },
  {
   "cell_type": "code",
   "execution_count": 32,
   "metadata": {
    "scrolled": false
   },
   "outputs": [
    {
     "data": {
      "text/html": [
       "<div>\n",
       "<style scoped>\n",
       "    .dataframe tbody tr th:only-of-type {\n",
       "        vertical-align: middle;\n",
       "    }\n",
       "\n",
       "    .dataframe tbody tr th {\n",
       "        vertical-align: top;\n",
       "    }\n",
       "\n",
       "    .dataframe thead th {\n",
       "        text-align: right;\n",
       "    }\n",
       "</style>\n",
       "<table border=\"1\" class=\"dataframe\">\n",
       "  <thead>\n",
       "    <tr style=\"text-align: right;\">\n",
       "      <th>escola_ens_medio</th>\n",
       "      <th>Em escola Particular, com bolsa</th>\n",
       "      <th>Parte em escola pública parte em escola particular</th>\n",
       "      <th>Todo em escola particular</th>\n",
       "      <th>Todo em escola publica</th>\n",
       "    </tr>\n",
       "    <tr>\n",
       "      <th>ano_ingresso</th>\n",
       "      <th></th>\n",
       "      <th></th>\n",
       "      <th></th>\n",
       "      <th></th>\n",
       "    </tr>\n",
       "  </thead>\n",
       "  <tbody>\n",
       "    <tr>\n",
       "      <th>2013</th>\n",
       "      <td>1.0</td>\n",
       "      <td>0.0</td>\n",
       "      <td>4.0</td>\n",
       "      <td>4.0</td>\n",
       "    </tr>\n",
       "    <tr>\n",
       "      <th>2014</th>\n",
       "      <td>0.0</td>\n",
       "      <td>1.0</td>\n",
       "      <td>7.0</td>\n",
       "      <td>4.0</td>\n",
       "    </tr>\n",
       "    <tr>\n",
       "      <th>2015</th>\n",
       "      <td>2.0</td>\n",
       "      <td>0.0</td>\n",
       "      <td>9.0</td>\n",
       "      <td>13.0</td>\n",
       "    </tr>\n",
       "    <tr>\n",
       "      <th>2016</th>\n",
       "      <td>0.0</td>\n",
       "      <td>2.0</td>\n",
       "      <td>7.0</td>\n",
       "      <td>10.0</td>\n",
       "    </tr>\n",
       "    <tr>\n",
       "      <th>2017</th>\n",
       "      <td>0.0</td>\n",
       "      <td>0.0</td>\n",
       "      <td>3.0</td>\n",
       "      <td>5.0</td>\n",
       "    </tr>\n",
       "  </tbody>\n",
       "</table>\n",
       "</div>"
      ],
      "text/plain": [
       "escola_ens_medio  Em escola Particular, com bolsa   \\\n",
       "ano_ingresso                                         \n",
       "2013                                           1.0   \n",
       "2014                                           0.0   \n",
       "2015                                           2.0   \n",
       "2016                                           0.0   \n",
       "2017                                           0.0   \n",
       "\n",
       "escola_ens_medio  Parte em escola pública parte em escola particular   \\\n",
       "ano_ingresso                                                            \n",
       "2013                                                            0.0     \n",
       "2014                                                            1.0     \n",
       "2015                                                            0.0     \n",
       "2016                                                            2.0     \n",
       "2017                                                            0.0     \n",
       "\n",
       "escola_ens_medio  Todo em escola particular   Todo em escola publica   \n",
       "ano_ingresso                                                           \n",
       "2013                                     4.0                      4.0  \n",
       "2014                                     7.0                      4.0  \n",
       "2015                                     9.0                     13.0  \n",
       "2016                                     7.0                     10.0  \n",
       "2017                                     3.0                      5.0  "
      ]
     },
     "execution_count": 32,
     "metadata": {},
     "output_type": "execute_result"
    }
   ],
   "source": [
    "alunas_imd_pivotado3 = alunas_imd.pivot_table(index='ano_ingresso', \n",
    "                                           columns='escola_ens_medio',\n",
    "                                           values=\"id_discente\", aggfunc=np.size)\n",
    "\n",
    "# em alguns anos não exite mulheres cotistas, completar o nan com o valor zero\n",
    "alunas_imd_pivotado3.fillna(0,inplace=True)\n",
    "alunas_imd_pivotado3"
   ]
  },
  {
   "cell_type": "code",
   "execution_count": 37,
   "metadata": {},
   "outputs": [
    {
     "data": {
      "image/png": "[encoded data removed]",
      "text/plain": [
       "<Figure size 1440x720 with 1 Axes>"
      ]
     },
     "metadata": {},
     "output_type": "display_data"
    }
   ],
   "source": [
    "#Gerando gráfico \n",
    "alunas_imd_pivotado3.groupby('ano_ingresso').mean().loc[:,['Em escola Particular, com bolsa ',\n",
    "                       'Parte em escola pública parte em escola particular ',\n",
    "                       'Todo em escola particular ', 'Todo em escola publica ']].plot(kind='bar',\n",
    "                       title='Total de mulheres ingressantes por identificação étnica ',grid=False)\n",
    "\n",
    "plt.xticks(rotation='horizontal')\n",
    "plt.rcParams['figure.figsize'] = (20,10)\n",
    "plt.legend(loc='upper left')\n",
    "plt.show()"
   ]
  },
  {
   "cell_type": "markdown",
   "metadata": {},
   "source": [
    "## Conclusão\n"
   ]
  },
  {
   "cell_type": "markdown",
   "metadata": {},
   "source": [
    "Tais dados informam a baixa entrada de alunas no curso e, ainda, a grande desistência das que ingressaram. Esse quadro traz a preocupação de não somente mostrar para meninas do ensino fundamental e médio que elas são capazes de atuar na área de TI, como também são capazes de permanecer no curso, mesmo estando em situação de minoria e sentindo-se desmotivadas e desencorajadas, até mesmo, por colegas e professores."
   ]
  },
  {
   "cell_type": "markdown",
   "metadata": {},
   "source": [
    "Dentro do IMD, existe o Projeto de Extensão Mulheres na TI, que tem como objetivo estimular o interesse de meninas do ensino médio pelos cursos de viés tecnológico e prover exemplos de caminhos profissionais para as estudantes dos diferentes cursos de TI na cidade. Através da promoção de palestras, visitas e cursos organizados e ministrados por alunas da UFRN em escolas públicas e privadas de Natal e região; e na realização de palestras com mulheres profissionais da área de TI de destaque nacional tendo como público-alvo a comunidade de alunos e alunas universitários."
   ]
  },
  {
   "cell_type": "markdown",
   "metadata": {},
   "source": [
    "Esse trabalho teve como objetivo analisar a situação atual das mulheres do BTI-UFRN, de forma a compreender como está configurada essa minoria no corpo discente. A partir dos dados levantados, foi possível confirmar que a divergência de quantidade de mulheres em relação à homens no curso ainda é grande. Um outro fato importante de ser observado é a questão social das alunas, onde quase não há presença de cotistas e periféricas. Apontamos ações que estão sendo feitas para reverter o quadro atual do corpo discente, que buscam apoiar, encorajar e manter as alunas presentes no curso, bem como inspirar futuras ingressantes e auxiliá-las a ter êxito na área. Espera-se que tais ações tenham impacto positivo no corpo acadêmico e que, em um futuro próximo, os índices mostram maior diversidade de alunos e maior êxito ao fim do curso.\n"
   ]
  }
 ],
 "metadata": {
  "kernelspec": {
   "display_name": "Python 3",
   "language": "python",
   "name": "python3"
  },
  "language_info": {
   "codemirror_mode": {
    "name": "ipython",
    "version": 3
   },
   "file_extension": ".py",
   "mimetype": "text/x-python",
   "name": "python",
   "nbconvert_exporter": "python",
   "pygments_lexer": "ipython3",
   "version": "3.6.4"
  }
 },
 "nbformat": 4,
 "nbformat_minor": 2
}
