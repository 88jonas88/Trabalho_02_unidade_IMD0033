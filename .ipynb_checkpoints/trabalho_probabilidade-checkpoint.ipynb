{
 "cells": [
  {
   "cell_type": "markdown",
   "metadata": {},
   "source": [
    "# Importando as bibliotecas"
   ]
  },
  {
   "cell_type": "code",
   "execution_count": 1,
   "metadata": {},
   "outputs": [],
   "source": [
    "import pandas as pd\n",
    "import matplotlib.pyplot as plt\n",
    "import seaborn as sns\n",
    "import numpy as np"
   ]
  },
  {
   "cell_type": "markdown",
   "metadata": {},
   "source": [
    "# Tabelas importadas do site  http://dados.ufrn.br/group/ensino"
   ]
  },
  {
   "cell_type": "code",
   "execution_count": 2,
   "metadata": {},
   "outputs": [],
   "source": [
    "##DADOS SÓCIO-ECONÔMICOS DE DISCENTES\n",
    "\n",
    "\n",
    "url_socio_2013_1 = 'https://bit.ly/2IwDSvE'\n",
    "url_socio_2013_2 = 'https://bit.ly/2KUmr6D'\n",
    "\n",
    "url_socio_2014_1 = 'https://bit.ly/2rwzbXX'\n",
    "url_socio_2014_2 = 'https://bit.ly/2IaMcO9'\n",
    "\n",
    "url_socio_2015_1 = 'https://bit.ly/2wuf4PY'\n",
    "url_socio_2015_2 = 'https://bit.ly/2K7UtTy'\n",
    "\n",
    "url_socio_2016_1 = 'https://bit.ly/2I5xrMA'\n",
    "url_socio_2016_2 = 'https://bit.ly/2K8jMF3'\n",
    "\n",
    "url_socio_2017_1 = 'https://bit.ly/2jLOb0T'\n",
    "\n",
    "##MATRÍCULAS EM COMPONENTES\n",
    "\n",
    "\n",
    "matricula_2013_1 = 'https://bit.ly/2G7irff'\n",
    "matricula_2013_2 = 'https://bit.ly/2jPQ7FG'\n",
    "\n",
    "matricula_2014_1 = 'https://bit.ly/2rwFpI4'\n",
    "matricula_2014_2 = 'https://bit.ly/2I3mj6T'\n",
    "\n",
    "matricula_2015_1 = 'https://bit.ly/2I8YfeM'\n",
    "matricula_2015_2 = 'https://bit.ly/2rvknKb'\n",
    "\n",
    "matricula_2016_1 = 'https://bit.ly/2K7oy5w'\n",
    "matricula_2016_2 = 'https://bit.ly/2rup6Ma'\n",
    "\n",
    "matricula_2017_1 = 'https://bit.ly/2KMoTvS'\n",
    "\n",
    "##DADOS COMPLEMENTARES DE DISCENTES\n",
    "\n",
    "complementares_discente = 'https://bit.ly/2wxa4df'"
   ]
  },
  {
   "cell_type": "markdown",
   "metadata": {},
   "source": [
    "# Leitura de csv "
   ]
  },
  {
   "cell_type": "code",
   "execution_count": 3,
   "metadata": {},
   "outputs": [],
   "source": [
    "##LEITURA DOS DADOS SÓCIO-ECONÔMICOS DE DISCENTES\n",
    "\n",
    "socio_2013_1 = pd.read_csv(url_socio_2013_1, sep=';')\n",
    "socio_2013_2 = pd.read_csv(url_socio_2013_2, sep=';')\n",
    "socio_2014_1 = pd.read_csv(url_socio_2014_1, sep=';')\n",
    "socio_2014_2 = pd.read_csv(url_socio_2014_2, sep=';')\n",
    "socio_2015_1 = pd.read_csv(url_socio_2015_1, sep=';')\n",
    "socio_2015_2 = pd.read_csv(url_socio_2015_2, sep=';')\n",
    "socio_2016_1 = pd.read_csv(url_socio_2016_1, sep=';')\n",
    "socio_2016_2 = pd.read_csv(url_socio_2016_2, sep=';')\n",
    "socio_2017_1 = pd.read_csv(url_socio_2017_1, sep=';')"
   ]
  },
  {
   "cell_type": "code",
   "execution_count": 4,
   "metadata": {},
   "outputs": [
    {
     "ename": "KeyboardInterrupt",
     "evalue": "",
     "output_type": "error",
     "traceback": [
      "\u001b[0;31m---------------------------------------------------------------------------\u001b[0m",
      "\u001b[0;31mKeyboardInterrupt\u001b[0m                         Traceback (most recent call last)",
      "\u001b[0;32m<ipython-input-4-bb0156c81123>\u001b[0m in \u001b[0;36m<module>\u001b[0;34m()\u001b[0m\n\u001b[1;32m      9\u001b[0m \u001b[0mmatriculas_2016_1\u001b[0m \u001b[0;34m=\u001b[0m \u001b[0mpd\u001b[0m\u001b[0;34m.\u001b[0m\u001b[0mread_csv\u001b[0m\u001b[0;34m(\u001b[0m\u001b[0mmatricula_2016_1\u001b[0m\u001b[0;34m,\u001b[0m \u001b[0msep\u001b[0m\u001b[0;34m=\u001b[0m\u001b[0;34m';'\u001b[0m\u001b[0;34m)\u001b[0m\u001b[0;34m\u001b[0m\u001b[0m\n\u001b[1;32m     10\u001b[0m \u001b[0mmatriculas_2016_2\u001b[0m \u001b[0;34m=\u001b[0m \u001b[0mpd\u001b[0m\u001b[0;34m.\u001b[0m\u001b[0mread_csv\u001b[0m\u001b[0;34m(\u001b[0m\u001b[0mmatricula_2016_2\u001b[0m\u001b[0;34m,\u001b[0m \u001b[0msep\u001b[0m\u001b[0;34m=\u001b[0m\u001b[0;34m';'\u001b[0m\u001b[0;34m)\u001b[0m\u001b[0;34m\u001b[0m\u001b[0m\n\u001b[0;32m---> 11\u001b[0;31m \u001b[0mmatriculas_2017_1\u001b[0m \u001b[0;34m=\u001b[0m \u001b[0mpd\u001b[0m\u001b[0;34m.\u001b[0m\u001b[0mread_csv\u001b[0m\u001b[0;34m(\u001b[0m\u001b[0mmatricula_2017_1\u001b[0m\u001b[0;34m,\u001b[0m \u001b[0msep\u001b[0m\u001b[0;34m=\u001b[0m\u001b[0;34m';'\u001b[0m\u001b[0;34m)\u001b[0m\u001b[0;34m\u001b[0m\u001b[0m\n\u001b[0m",
      "\u001b[0;32m~/anaconda3/lib/python3.6/site-packages/pandas/io/parsers.py\u001b[0m in \u001b[0;36mparser_f\u001b[0;34m(filepath_or_buffer, sep, delimiter, header, names, index_col, usecols, squeeze, prefix, mangle_dupe_cols, dtype, engine, converters, true_values, false_values, skipinitialspace, skiprows, nrows, na_values, keep_default_na, na_filter, verbose, skip_blank_lines, parse_dates, infer_datetime_format, keep_date_col, date_parser, dayfirst, iterator, chunksize, compression, thousands, decimal, lineterminator, quotechar, quoting, escapechar, comment, encoding, dialect, tupleize_cols, error_bad_lines, warn_bad_lines, skipfooter, skip_footer, doublequote, delim_whitespace, as_recarray, compact_ints, use_unsigned, low_memory, buffer_lines, memory_map, float_precision)\u001b[0m\n\u001b[1;32m    707\u001b[0m                     skip_blank_lines=skip_blank_lines)\n\u001b[1;32m    708\u001b[0m \u001b[0;34m\u001b[0m\u001b[0m\n\u001b[0;32m--> 709\u001b[0;31m         \u001b[0;32mreturn\u001b[0m \u001b[0m_read\u001b[0m\u001b[0;34m(\u001b[0m\u001b[0mfilepath_or_buffer\u001b[0m\u001b[0;34m,\u001b[0m \u001b[0mkwds\u001b[0m\u001b[0;34m)\u001b[0m\u001b[0;34m\u001b[0m\u001b[0m\n\u001b[0m\u001b[1;32m    710\u001b[0m \u001b[0;34m\u001b[0m\u001b[0m\n\u001b[1;32m    711\u001b[0m     \u001b[0mparser_f\u001b[0m\u001b[0;34m.\u001b[0m\u001b[0m__name__\u001b[0m \u001b[0;34m=\u001b[0m \u001b[0mname\u001b[0m\u001b[0;34m\u001b[0m\u001b[0m\n",
      "\u001b[0;32m~/anaconda3/lib/python3.6/site-packages/pandas/io/parsers.py\u001b[0m in \u001b[0;36m_read\u001b[0;34m(filepath_or_buffer, kwds)\u001b[0m\n\u001b[1;32m    431\u001b[0m     \u001b[0mcompression\u001b[0m \u001b[0;34m=\u001b[0m \u001b[0m_infer_compression\u001b[0m\u001b[0;34m(\u001b[0m\u001b[0mfilepath_or_buffer\u001b[0m\u001b[0;34m,\u001b[0m \u001b[0mcompression\u001b[0m\u001b[0;34m)\u001b[0m\u001b[0;34m\u001b[0m\u001b[0m\n\u001b[1;32m    432\u001b[0m     filepath_or_buffer, _, compression = get_filepath_or_buffer(\n\u001b[0;32m--> 433\u001b[0;31m         filepath_or_buffer, encoding, compression)\n\u001b[0m\u001b[1;32m    434\u001b[0m     \u001b[0mkwds\u001b[0m\u001b[0;34m[\u001b[0m\u001b[0;34m'compression'\u001b[0m\u001b[0;34m]\u001b[0m \u001b[0;34m=\u001b[0m \u001b[0mcompression\u001b[0m\u001b[0;34m\u001b[0m\u001b[0m\n\u001b[1;32m    435\u001b[0m \u001b[0;34m\u001b[0m\u001b[0m\n",
      "\u001b[0;32m~/anaconda3/lib/python3.6/site-packages/pandas/io/common.py\u001b[0m in \u001b[0;36mget_filepath_or_buffer\u001b[0;34m(filepath_or_buffer, encoding, compression)\u001b[0m\n\u001b[1;32m    193\u001b[0m             \u001b[0;31m# Override compression based on Content-Encoding header\u001b[0m\u001b[0;34m\u001b[0m\u001b[0;34m\u001b[0m\u001b[0m\n\u001b[1;32m    194\u001b[0m             \u001b[0mcompression\u001b[0m \u001b[0;34m=\u001b[0m \u001b[0;34m'gzip'\u001b[0m\u001b[0;34m\u001b[0m\u001b[0m\n\u001b[0;32m--> 195\u001b[0;31m         \u001b[0mreader\u001b[0m \u001b[0;34m=\u001b[0m \u001b[0mBytesIO\u001b[0m\u001b[0;34m(\u001b[0m\u001b[0mreq\u001b[0m\u001b[0;34m.\u001b[0m\u001b[0mread\u001b[0m\u001b[0;34m(\u001b[0m\u001b[0;34m)\u001b[0m\u001b[0;34m)\u001b[0m\u001b[0;34m\u001b[0m\u001b[0m\n\u001b[0m\u001b[1;32m    196\u001b[0m         \u001b[0;32mreturn\u001b[0m \u001b[0mreader\u001b[0m\u001b[0;34m,\u001b[0m \u001b[0mencoding\u001b[0m\u001b[0;34m,\u001b[0m \u001b[0mcompression\u001b[0m\u001b[0;34m\u001b[0m\u001b[0m\n\u001b[1;32m    197\u001b[0m \u001b[0;34m\u001b[0m\u001b[0m\n",
      "\u001b[0;32m~/anaconda3/lib/python3.6/http/client.py\u001b[0m in \u001b[0;36mread\u001b[0;34m(self, amt)\u001b[0m\n\u001b[1;32m    454\u001b[0m \u001b[0;34m\u001b[0m\u001b[0m\n\u001b[1;32m    455\u001b[0m             \u001b[0;32mif\u001b[0m \u001b[0mself\u001b[0m\u001b[0;34m.\u001b[0m\u001b[0mchunked\u001b[0m\u001b[0;34m:\u001b[0m\u001b[0;34m\u001b[0m\u001b[0m\n\u001b[0;32m--> 456\u001b[0;31m                 \u001b[0;32mreturn\u001b[0m \u001b[0mself\u001b[0m\u001b[0;34m.\u001b[0m\u001b[0m_readall_chunked\u001b[0m\u001b[0;34m(\u001b[0m\u001b[0;34m)\u001b[0m\u001b[0;34m\u001b[0m\u001b[0m\n\u001b[0m\u001b[1;32m    457\u001b[0m \u001b[0;34m\u001b[0m\u001b[0m\n\u001b[1;32m    458\u001b[0m             \u001b[0;32mif\u001b[0m \u001b[0mself\u001b[0m\u001b[0;34m.\u001b[0m\u001b[0mlength\u001b[0m \u001b[0;32mis\u001b[0m \u001b[0;32mNone\u001b[0m\u001b[0;34m:\u001b[0m\u001b[0;34m\u001b[0m\u001b[0m\n",
      "\u001b[0;32m~/anaconda3/lib/python3.6/http/client.py\u001b[0m in \u001b[0;36m_readall_chunked\u001b[0;34m(self)\u001b[0m\n\u001b[1;32m    564\u001b[0m                 \u001b[0;32mif\u001b[0m \u001b[0mchunk_left\u001b[0m \u001b[0;32mis\u001b[0m \u001b[0;32mNone\u001b[0m\u001b[0;34m:\u001b[0m\u001b[0;34m\u001b[0m\u001b[0m\n\u001b[1;32m    565\u001b[0m                     \u001b[0;32mbreak\u001b[0m\u001b[0;34m\u001b[0m\u001b[0m\n\u001b[0;32m--> 566\u001b[0;31m                 \u001b[0mvalue\u001b[0m\u001b[0;34m.\u001b[0m\u001b[0mappend\u001b[0m\u001b[0;34m(\u001b[0m\u001b[0mself\u001b[0m\u001b[0;34m.\u001b[0m\u001b[0m_safe_read\u001b[0m\u001b[0;34m(\u001b[0m\u001b[0mchunk_left\u001b[0m\u001b[0;34m)\u001b[0m\u001b[0;34m)\u001b[0m\u001b[0;34m\u001b[0m\u001b[0m\n\u001b[0m\u001b[1;32m    567\u001b[0m                 \u001b[0mself\u001b[0m\u001b[0;34m.\u001b[0m\u001b[0mchunk_left\u001b[0m \u001b[0;34m=\u001b[0m \u001b[0;36m0\u001b[0m\u001b[0;34m\u001b[0m\u001b[0m\n\u001b[1;32m    568\u001b[0m             \u001b[0;32mreturn\u001b[0m \u001b[0;34mb''\u001b[0m\u001b[0;34m.\u001b[0m\u001b[0mjoin\u001b[0m\u001b[0;34m(\u001b[0m\u001b[0mvalue\u001b[0m\u001b[0;34m)\u001b[0m\u001b[0;34m\u001b[0m\u001b[0m\n",
      "\u001b[0;32m~/anaconda3/lib/python3.6/http/client.py\u001b[0m in \u001b[0;36m_safe_read\u001b[0;34m(self, amt)\u001b[0m\n\u001b[1;32m    610\u001b[0m         \u001b[0ms\u001b[0m \u001b[0;34m=\u001b[0m \u001b[0;34m[\u001b[0m\u001b[0;34m]\u001b[0m\u001b[0;34m\u001b[0m\u001b[0m\n\u001b[1;32m    611\u001b[0m         \u001b[0;32mwhile\u001b[0m \u001b[0mamt\u001b[0m \u001b[0;34m>\u001b[0m \u001b[0;36m0\u001b[0m\u001b[0;34m:\u001b[0m\u001b[0;34m\u001b[0m\u001b[0m\n\u001b[0;32m--> 612\u001b[0;31m             \u001b[0mchunk\u001b[0m \u001b[0;34m=\u001b[0m \u001b[0mself\u001b[0m\u001b[0;34m.\u001b[0m\u001b[0mfp\u001b[0m\u001b[0;34m.\u001b[0m\u001b[0mread\u001b[0m\u001b[0;34m(\u001b[0m\u001b[0mmin\u001b[0m\u001b[0;34m(\u001b[0m\u001b[0mamt\u001b[0m\u001b[0;34m,\u001b[0m \u001b[0mMAXAMOUNT\u001b[0m\u001b[0;34m)\u001b[0m\u001b[0;34m)\u001b[0m\u001b[0;34m\u001b[0m\u001b[0m\n\u001b[0m\u001b[1;32m    613\u001b[0m             \u001b[0;32mif\u001b[0m \u001b[0;32mnot\u001b[0m \u001b[0mchunk\u001b[0m\u001b[0;34m:\u001b[0m\u001b[0;34m\u001b[0m\u001b[0m\n\u001b[1;32m    614\u001b[0m                 \u001b[0;32mraise\u001b[0m \u001b[0mIncompleteRead\u001b[0m\u001b[0;34m(\u001b[0m\u001b[0;34mb''\u001b[0m\u001b[0;34m.\u001b[0m\u001b[0mjoin\u001b[0m\u001b[0;34m(\u001b[0m\u001b[0ms\u001b[0m\u001b[0;34m)\u001b[0m\u001b[0;34m,\u001b[0m \u001b[0mamt\u001b[0m\u001b[0;34m)\u001b[0m\u001b[0;34m\u001b[0m\u001b[0m\n",
      "\u001b[0;32m~/anaconda3/lib/python3.6/socket.py\u001b[0m in \u001b[0;36mreadinto\u001b[0;34m(self, b)\u001b[0m\n\u001b[1;32m    584\u001b[0m         \u001b[0;32mwhile\u001b[0m \u001b[0;32mTrue\u001b[0m\u001b[0;34m:\u001b[0m\u001b[0;34m\u001b[0m\u001b[0m\n\u001b[1;32m    585\u001b[0m             \u001b[0;32mtry\u001b[0m\u001b[0;34m:\u001b[0m\u001b[0;34m\u001b[0m\u001b[0m\n\u001b[0;32m--> 586\u001b[0;31m                 \u001b[0;32mreturn\u001b[0m \u001b[0mself\u001b[0m\u001b[0;34m.\u001b[0m\u001b[0m_sock\u001b[0m\u001b[0;34m.\u001b[0m\u001b[0mrecv_into\u001b[0m\u001b[0;34m(\u001b[0m\u001b[0mb\u001b[0m\u001b[0;34m)\u001b[0m\u001b[0;34m\u001b[0m\u001b[0m\n\u001b[0m\u001b[1;32m    587\u001b[0m             \u001b[0;32mexcept\u001b[0m \u001b[0mtimeout\u001b[0m\u001b[0;34m:\u001b[0m\u001b[0;34m\u001b[0m\u001b[0m\n\u001b[1;32m    588\u001b[0m                 \u001b[0mself\u001b[0m\u001b[0;34m.\u001b[0m\u001b[0m_timeout_occurred\u001b[0m \u001b[0;34m=\u001b[0m \u001b[0;32mTrue\u001b[0m\u001b[0;34m\u001b[0m\u001b[0m\n",
      "\u001b[0;31mKeyboardInterrupt\u001b[0m: "
     ]
    }
   ],
   "source": [
    "##LEITURA DAS MATRÍCULAS EM COMPONENTES\n",
    "\n",
    "matriculas_2013_1 = pd.read_csv(matricula_2013_1, sep=';')\n",
    "matriculas_2013_2 = pd.read_csv(matricula_2013_2, sep=';')\n",
    "matriculas_2014_1 = pd.read_csv(matricula_2014_1, sep=';')\n",
    "matriculas_2014_2 = pd.read_csv(matricula_2014_2, sep=';')\n",
    "matriculas_2015_1 = pd.read_csv(matricula_2015_1, sep=';')\n",
    "matriculas_2015_2 = pd.read_csv(matricula_2015_2, sep=';')\n",
    "matriculas_2016_1 = pd.read_csv(matricula_2016_1, sep=';')\n",
    "matriculas_2016_2 = pd.read_csv(matricula_2016_2, sep=';')\n",
    "matriculas_2017_1 = pd.read_csv(matricula_2017_1, sep=';')"
   ]
  },
  {
   "cell_type": "code",
   "execution_count": 6,
   "metadata": {},
   "outputs": [
    {
     "data": {
      "text/plain": [
       "(372148, 14)"
      ]
     },
     "execution_count": 6,
     "metadata": {},
     "output_type": "execute_result"
    }
   ],
   "source": [
    "complemento = pd.read_csv(complementares_discente, sep=';')\n",
    "complemento.shape"
   ]
  },
  {
   "cell_type": "code",
   "execution_count": 13,
   "metadata": {},
   "outputs": [
    {
     "data": {
      "text/plain": [
       "(99296, 9)"
      ]
     },
     "execution_count": 13,
     "metadata": {},
     "output_type": "execute_result"
    }
   ],
   "source": [
    "# Concatenação dos data frames sócio-econômicos\n",
    "turmas = pd.concat([socio_2013_1, socio_2013_2, socio_2014_1, socio_2014_2, socio_2015_1,\n",
    "                    socio_2015_2, socio_2016_1, socio_2016_2, socio_2017_1])\n",
    "turmas.shape"
   ]
  },
  {
   "cell_type": "code",
   "execution_count": 15,
   "metadata": {},
   "outputs": [
    {
     "data": {
      "text/plain": [
       "(6339179, 11)"
      ]
     },
     "execution_count": 15,
     "metadata": {},
     "output_type": "execute_result"
    }
   ],
   "source": [
    "# Concatenação dos data frames matriculas\n",
    "matriculas = pd.concat([matriculas_2013_1, matriculas_2013_2, matriculas_2014_1, matriculas_2014_2, \n",
    "                        matriculas_2015_1, matriculas_2015_2, matriculas_2016_1, matriculas_2016_2, \n",
    "                        matriculas_2017_1])\n",
    "matriculas.shape"
   ]
  },
  {
   "cell_type": "code",
   "execution_count": 16,
   "metadata": {},
   "outputs": [],
   "source": [
    "# Renomear a coluna discente do data frame matriculas para id_discente\n",
    "matriculas.rename(columns={'discente':'id_discente'}, inplace=True)"
   ]
  },
  {
   "cell_type": "code",
   "execution_count": 17,
   "metadata": {},
   "outputs": [
    {
     "data": {
      "text/plain": [
       "(12365341, 10)"
      ]
     },
     "execution_count": 17,
     "metadata": {},
     "output_type": "execute_result"
    }
   ],
   "source": [
    "# Merge dos data frames matriculas e tumas\n",
    "colunas = [\"id_discente\", \"ano\", \"periodo\", \"renda\", \"escola_ens_medio\", \"possui_bolsa_pesquisa\",\n",
    "          \"possui_auxilio_alimentacao\", \"possui_auxilio_transporte\", \"possui_auxilio_residencia_moradia\", \"id_curso\"]\n",
    "\n",
    "alunos = pd.merge(matriculas, turmas, on='id_discente')[colunas]\n",
    "alunos.shape"
   ]
  },
  {
   "cell_type": "code",
   "execution_count": 22,
   "metadata": {},
   "outputs": [
    {
     "data": {
      "text/html": [
       "<div>\n",
       "<style scoped>\n",
       "    .dataframe tbody tr th:only-of-type {\n",
       "        vertical-align: middle;\n",
       "    }\n",
       "\n",
       "    .dataframe tbody tr th {\n",
       "        vertical-align: top;\n",
       "    }\n",
       "\n",
       "    .dataframe thead th {\n",
       "        text-align: right;\n",
       "    }\n",
       "</style>\n",
       "<table border=\"1\" class=\"dataframe\">\n",
       "  <thead>\n",
       "    <tr style=\"text-align: right;\">\n",
       "      <th></th>\n",
       "      <th>id_discente</th>\n",
       "      <th>ano</th>\n",
       "      <th>periodo</th>\n",
       "      <th>renda</th>\n",
       "      <th>escola_ens_medio</th>\n",
       "      <th>possui_bolsa_pesquisa</th>\n",
       "      <th>possui_auxilio_alimentacao</th>\n",
       "      <th>possui_auxilio_transporte</th>\n",
       "      <th>possui_auxilio_residencia_moradia</th>\n",
       "      <th>id_curso</th>\n",
       "    </tr>\n",
       "  </thead>\n",
       "  <tbody>\n",
       "    <tr>\n",
       "      <th>0</th>\n",
       "      <td>6fdf84192e10810368fbe2af7f8fefcb</td>\n",
       "      <td>2013</td>\n",
       "      <td>1</td>\n",
       "      <td>NaN</td>\n",
       "      <td>NaN</td>\n",
       "      <td>f</td>\n",
       "      <td>t</td>\n",
       "      <td>f</td>\n",
       "      <td>t</td>\n",
       "      <td>2000002.0</td>\n",
       "    </tr>\n",
       "    <tr>\n",
       "      <th>1057</th>\n",
       "      <td>329fc75ea2fd700dfd4581b0ff039471</td>\n",
       "      <td>2013</td>\n",
       "      <td>2</td>\n",
       "      <td>NaN</td>\n",
       "      <td>NaN</td>\n",
       "      <td>f</td>\n",
       "      <td>t</td>\n",
       "      <td>f</td>\n",
       "      <td>f</td>\n",
       "      <td>2000014.0</td>\n",
       "    </tr>\n",
       "    <tr>\n",
       "      <th>1693</th>\n",
       "      <td>bc121d0608829e9ee310909b5ef64831</td>\n",
       "      <td>2013</td>\n",
       "      <td>1</td>\n",
       "      <td>NaN</td>\n",
       "      <td>NaN</td>\n",
       "      <td>f</td>\n",
       "      <td>f</td>\n",
       "      <td>f</td>\n",
       "      <td>f</td>\n",
       "      <td>2000002.0</td>\n",
       "    </tr>\n",
       "    <tr>\n",
       "      <th>1700</th>\n",
       "      <td>cd50d743cd3f8a5e67e2095adfb8740d</td>\n",
       "      <td>2015</td>\n",
       "      <td>1</td>\n",
       "      <td>1450.0</td>\n",
       "      <td>Todo em escola particular</td>\n",
       "      <td>f</td>\n",
       "      <td>f</td>\n",
       "      <td>f</td>\n",
       "      <td>f</td>\n",
       "      <td>2000002.0</td>\n",
       "    </tr>\n",
       "    <tr>\n",
       "      <th>1818</th>\n",
       "      <td>27f9856eed4f8a077a50c049c2bdd8b4</td>\n",
       "      <td>2013</td>\n",
       "      <td>1</td>\n",
       "      <td>NaN</td>\n",
       "      <td>NaN</td>\n",
       "      <td>f</td>\n",
       "      <td>f</td>\n",
       "      <td>f</td>\n",
       "      <td>f</td>\n",
       "      <td>2000002.0</td>\n",
       "    </tr>\n",
       "  </tbody>\n",
       "</table>\n",
       "</div>"
      ],
      "text/plain": [
       "                           id_discente   ano  periodo   renda  \\\n",
       "0     6fdf84192e10810368fbe2af7f8fefcb  2013        1     NaN   \n",
       "1057  329fc75ea2fd700dfd4581b0ff039471  2013        2     NaN   \n",
       "1693  bc121d0608829e9ee310909b5ef64831  2013        1     NaN   \n",
       "1700  cd50d743cd3f8a5e67e2095adfb8740d  2015        1  1450.0   \n",
       "1818  27f9856eed4f8a077a50c049c2bdd8b4  2013        1     NaN   \n",
       "\n",
       "                escola_ens_medio possui_bolsa_pesquisa  \\\n",
       "0                            NaN                     f   \n",
       "1057                         NaN                     f   \n",
       "1693                         NaN                     f   \n",
       "1700  Todo em escola particular                      f   \n",
       "1818                         NaN                     f   \n",
       "\n",
       "     possui_auxilio_alimentacao possui_auxilio_transporte  \\\n",
       "0                             t                         f   \n",
       "1057                          t                         f   \n",
       "1693                          f                         f   \n",
       "1700                          f                         f   \n",
       "1818                          f                         f   \n",
       "\n",
       "     possui_auxilio_residencia_moradia   id_curso  \n",
       "0                                    t  2000002.0  \n",
       "1057                                 f  2000014.0  \n",
       "1693                                 f  2000002.0  \n",
       "1700                                 f  2000002.0  \n",
       "1818                                 f  2000002.0  "
      ]
     },
     "execution_count": 22,
     "metadata": {},
     "output_type": "execute_result"
    }
   ],
   "source": [
    "alunos.head()"
   ]
  },
  {
   "cell_type": "code",
   "execution_count": 23,
   "metadata": {},
   "outputs": [
    {
     "data": {
      "text/plain": [
       "(34449, 21)"
      ]
     },
     "execution_count": 23,
     "metadata": {},
     "output_type": "execute_result"
    }
   ],
   "source": [
    "# Merge dos data frames alunos (resultado do merge anterior) e complemento\n",
    "colunas = [\"id_discente\", \"ano\", \"periodo\", \"renda\", \"escola_ens_medio\", \"possui_bolsa_pesquisa\",\n",
    "          \"possui_auxilio_alimentacao\", \"possui_auxilio_transporte\", \"possui_auxilio_residencia_moradia\", \n",
    "           \"id_curso\", \"sexo\", \"data_nascimento\", \"raca\", \"estado_origem\", \"cidade_origem\", \"estado\",\n",
    "           \"municipio\", \"bairro\", \"ano_ingresso\", \"periodo_ingresso\", \"cotista\"]\n",
    "\n",
    "alunos = pd.merge(alunos, complemento, on='id_discente')[colunas]\n",
    "alunos.shape"
   ]
  },
  {
   "cell_type": "code",
   "execution_count": 24,
   "metadata": {},
   "outputs": [
    {
     "data": {
      "text/plain": [
       "(34449, 21)"
      ]
     },
     "execution_count": 24,
     "metadata": {},
     "output_type": "execute_result"
    }
   ],
   "source": [
    "# Remove os alunos repetidos, usando id_discente como primary key\n",
    "alunos.drop_duplicates(subset='id_discente', keep='first', inplace=True)\n",
    "alunos.shape"
   ]
  },
  {
   "cell_type": "code",
   "execution_count": 25,
   "metadata": {},
   "outputs": [
    {
     "data": {
      "text/plain": [
       "(694, 21)"
      ]
     },
     "execution_count": 25,
     "metadata": {},
     "output_type": "execute_result"
    }
   ],
   "source": [
    "# Filtra apenas os alunos do BTI. Id do curso BTI = 92127264.0, pode ser consultada na tabela cursos\n",
    "alunos_imd = alunos.loc[(alunos['id_curso'] == 92127264.0)]\n",
    "alunos_imd.shape"
   ]
  },
  {
   "cell_type": "code",
   "execution_count": 26,
   "metadata": {},
   "outputs": [
    {
     "data": {
      "text/html": [
       "<div>\n",
       "<style scoped>\n",
       "    .dataframe tbody tr th:only-of-type {\n",
       "        vertical-align: middle;\n",
       "    }\n",
       "\n",
       "    .dataframe tbody tr th {\n",
       "        vertical-align: top;\n",
       "    }\n",
       "\n",
       "    .dataframe thead th {\n",
       "        text-align: right;\n",
       "    }\n",
       "</style>\n",
       "<table border=\"1\" class=\"dataframe\">\n",
       "  <thead>\n",
       "    <tr style=\"text-align: right;\">\n",
       "      <th></th>\n",
       "      <th>id_discente</th>\n",
       "      <th>ano</th>\n",
       "      <th>periodo</th>\n",
       "      <th>renda</th>\n",
       "      <th>escola_ens_medio</th>\n",
       "      <th>possui_bolsa_pesquisa</th>\n",
       "      <th>possui_auxilio_alimentacao</th>\n",
       "      <th>possui_auxilio_transporte</th>\n",
       "      <th>possui_auxilio_residencia_moradia</th>\n",
       "      <th>id_curso</th>\n",
       "      <th>...</th>\n",
       "      <th>data_nascimento</th>\n",
       "      <th>raca</th>\n",
       "      <th>estado_origem</th>\n",
       "      <th>cidade_origem</th>\n",
       "      <th>estado</th>\n",
       "      <th>municipio</th>\n",
       "      <th>bairro</th>\n",
       "      <th>ano_ingresso</th>\n",
       "      <th>periodo_ingresso</th>\n",
       "      <th>cotista</th>\n",
       "    </tr>\n",
       "  </thead>\n",
       "  <tbody>\n",
       "    <tr>\n",
       "      <th>510</th>\n",
       "      <td>da437177e090ab90ea33ba772cfbae03</td>\n",
       "      <td>2014</td>\n",
       "      <td>1</td>\n",
       "      <td>7500.0</td>\n",
       "      <td>Todo em escola publica</td>\n",
       "      <td>f</td>\n",
       "      <td>f</td>\n",
       "      <td>f</td>\n",
       "      <td>f</td>\n",
       "      <td>92127264.0</td>\n",
       "      <td>...</td>\n",
       "      <td>15-05-1991</td>\n",
       "      <td>Branco</td>\n",
       "      <td>Rio Grande do Norte</td>\n",
       "      <td>MACAU</td>\n",
       "      <td>Rio Grande do Norte</td>\n",
       "      <td>NATAL</td>\n",
       "      <td>NOSSA SENHORA DE NAZARÉ</td>\n",
       "      <td>2013</td>\n",
       "      <td>1.0</td>\n",
       "      <td>f</td>\n",
       "    </tr>\n",
       "    <tr>\n",
       "      <th>511</th>\n",
       "      <td>7dd1c07f788951271820d1cb7b1b5bf7</td>\n",
       "      <td>2013</td>\n",
       "      <td>1</td>\n",
       "      <td>NaN</td>\n",
       "      <td>NaN</td>\n",
       "      <td>f</td>\n",
       "      <td>f</td>\n",
       "      <td>f</td>\n",
       "      <td>f</td>\n",
       "      <td>92127264.0</td>\n",
       "      <td>...</td>\n",
       "      <td>20-05-1990</td>\n",
       "      <td>Pardo</td>\n",
       "      <td>Rio Grande do Norte</td>\n",
       "      <td>PARNAMIRIM</td>\n",
       "      <td>Rio Grande do Norte</td>\n",
       "      <td>PARNAMIRIM</td>\n",
       "      <td>NOVA PARNAMIRIM</td>\n",
       "      <td>2013</td>\n",
       "      <td>1.0</td>\n",
       "      <td>f</td>\n",
       "    </tr>\n",
       "    <tr>\n",
       "      <th>512</th>\n",
       "      <td>2d546606bfbf2094137a4dcfacf5e12f</td>\n",
       "      <td>2013</td>\n",
       "      <td>2</td>\n",
       "      <td>NaN</td>\n",
       "      <td>NaN</td>\n",
       "      <td>f</td>\n",
       "      <td>f</td>\n",
       "      <td>f</td>\n",
       "      <td>f</td>\n",
       "      <td>92127264.0</td>\n",
       "      <td>...</td>\n",
       "      <td>25-07-1982</td>\n",
       "      <td>Indígeno</td>\n",
       "      <td>Rio Grande do Norte</td>\n",
       "      <td>NATAL</td>\n",
       "      <td>Rio Grande do Norte</td>\n",
       "      <td>NATAL</td>\n",
       "      <td>PITIMBU</td>\n",
       "      <td>2013</td>\n",
       "      <td>1.0</td>\n",
       "      <td>f</td>\n",
       "    </tr>\n",
       "    <tr>\n",
       "      <th>513</th>\n",
       "      <td>145440d461db004f5513e19a5ce783cd</td>\n",
       "      <td>2013</td>\n",
       "      <td>1</td>\n",
       "      <td>NaN</td>\n",
       "      <td>NaN</td>\n",
       "      <td>f</td>\n",
       "      <td>f</td>\n",
       "      <td>f</td>\n",
       "      <td>f</td>\n",
       "      <td>92127264.0</td>\n",
       "      <td>...</td>\n",
       "      <td>02-09-1983</td>\n",
       "      <td>Pardo</td>\n",
       "      <td>Rio Grande do Norte</td>\n",
       "      <td>NATAL</td>\n",
       "      <td>Rio Grande do Norte</td>\n",
       "      <td>NATAL</td>\n",
       "      <td>NOSSA SENHORA DE NAZARÉ</td>\n",
       "      <td>2013</td>\n",
       "      <td>1.0</td>\n",
       "      <td>f</td>\n",
       "    </tr>\n",
       "    <tr>\n",
       "      <th>515</th>\n",
       "      <td>c6e6b75a1e8fb3912dc281802313a782</td>\n",
       "      <td>2014</td>\n",
       "      <td>1</td>\n",
       "      <td>6000.0</td>\n",
       "      <td>Todo em escola particular</td>\n",
       "      <td>f</td>\n",
       "      <td>f</td>\n",
       "      <td>f</td>\n",
       "      <td>f</td>\n",
       "      <td>92127264.0</td>\n",
       "      <td>...</td>\n",
       "      <td>05-01-1995</td>\n",
       "      <td>Branco</td>\n",
       "      <td>Rio Grande do Norte</td>\n",
       "      <td>PARNAMIRIM</td>\n",
       "      <td>Rio Grande do Norte</td>\n",
       "      <td>NATAL</td>\n",
       "      <td>NOVA PARNAMIRIM</td>\n",
       "      <td>2013</td>\n",
       "      <td>1.0</td>\n",
       "      <td>f</td>\n",
       "    </tr>\n",
       "  </tbody>\n",
       "</table>\n",
       "<p>5 rows × 21 columns</p>\n",
       "</div>"
      ],
      "text/plain": [
       "                          id_discente   ano  periodo   renda  \\\n",
       "510  da437177e090ab90ea33ba772cfbae03  2014        1  7500.0   \n",
       "511  7dd1c07f788951271820d1cb7b1b5bf7  2013        1     NaN   \n",
       "512  2d546606bfbf2094137a4dcfacf5e12f  2013        2     NaN   \n",
       "513  145440d461db004f5513e19a5ce783cd  2013        1     NaN   \n",
       "515  c6e6b75a1e8fb3912dc281802313a782  2014        1  6000.0   \n",
       "\n",
       "               escola_ens_medio possui_bolsa_pesquisa  \\\n",
       "510     Todo em escola publica                      f   \n",
       "511                         NaN                     f   \n",
       "512                         NaN                     f   \n",
       "513                         NaN                     f   \n",
       "515  Todo em escola particular                      f   \n",
       "\n",
       "    possui_auxilio_alimentacao possui_auxilio_transporte  \\\n",
       "510                          f                         f   \n",
       "511                          f                         f   \n",
       "512                          f                         f   \n",
       "513                          f                         f   \n",
       "515                          f                         f   \n",
       "\n",
       "    possui_auxilio_residencia_moradia    id_curso   ...    data_nascimento  \\\n",
       "510                                 f  92127264.0   ...         15-05-1991   \n",
       "511                                 f  92127264.0   ...         20-05-1990   \n",
       "512                                 f  92127264.0   ...         25-07-1982   \n",
       "513                                 f  92127264.0   ...         02-09-1983   \n",
       "515                                 f  92127264.0   ...         05-01-1995   \n",
       "\n",
       "         raca        estado_origem cidade_origem               estado  \\\n",
       "510    Branco  Rio Grande do Norte         MACAU  Rio Grande do Norte   \n",
       "511     Pardo  Rio Grande do Norte    PARNAMIRIM  Rio Grande do Norte   \n",
       "512  Indígeno  Rio Grande do Norte         NATAL  Rio Grande do Norte   \n",
       "513     Pardo  Rio Grande do Norte         NATAL  Rio Grande do Norte   \n",
       "515    Branco  Rio Grande do Norte    PARNAMIRIM  Rio Grande do Norte   \n",
       "\n",
       "      municipio                   bairro ano_ingresso  periodo_ingresso  \\\n",
       "510       NATAL  NOSSA SENHORA DE NAZARÉ         2013               1.0   \n",
       "511  PARNAMIRIM          NOVA PARNAMIRIM         2013               1.0   \n",
       "512       NATAL                  PITIMBU         2013               1.0   \n",
       "513       NATAL  NOSSA SENHORA DE NAZARÉ         2013               1.0   \n",
       "515       NATAL          NOVA PARNAMIRIM         2013               1.0   \n",
       "\n",
       "     cotista  \n",
       "510        f  \n",
       "511        f  \n",
       "512        f  \n",
       "513        f  \n",
       "515        f  \n",
       "\n",
       "[5 rows x 21 columns]"
      ]
     },
     "execution_count": 26,
     "metadata": {},
     "output_type": "execute_result"
    }
   ],
   "source": [
    "alunos_imd.head()"
   ]
  }
 ],
 "metadata": {
  "kernelspec": {
   "display_name": "Python 3",
   "language": "python",
   "name": "python3"
  },
  "language_info": {
   "codemirror_mode": {
    "name": "ipython",
    "version": 3
   },
   "file_extension": ".py",
   "mimetype": "text/x-python",
   "name": "python",
   "nbconvert_exporter": "python",
   "pygments_lexer": "ipython3",
   "version": "3.6.4"
  }
 },
 "nbformat": 4,
 "nbformat_minor": 2
}
