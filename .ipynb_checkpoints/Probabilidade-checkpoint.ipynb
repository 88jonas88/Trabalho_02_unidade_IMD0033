{
 "cells": [
  {
   "cell_type": "code",
   "execution_count": 1,
   "metadata": {},
   "outputs": [],
   "source": [
    "# Importes das bibliotecas\n",
    "import pandas as pd\n",
    "import matplotlib.pyplot as plt\n",
    "import seaborn as sns\n",
    "import numpy as np"
   ]
  },
  {
   "cell_type": "code",
   "execution_count": 2,
   "metadata": {},
   "outputs": [],
   "source": [
    "# Links das tabelas de discentes ingressantes encurtadas\n",
    "# Encurtador de link https://bit.ly\n",
    "\n",
    "discentes_2013 = 'https://bit.ly/2I8xHKQ'\n",
    "\n",
    "discentes_2014 = 'https://bit.ly/2ruej3x'\n",
    "\n",
    "discentes_2015 = 'https://bit.ly/2rrUeuE'\n",
    "\n",
    "discentes_2016 = 'https://bit.ly/2ruUKbh'\n",
    "\n",
    "# discentes_2017 = 'https://bit.ly/2K0WwsE' tabela de dados de 2017 é a mesma tabela de 2009\n",
    "\n",
    "discentes_2018 = 'https://bit.ly/2wq265O'"
   ]
  },
  {
   "cell_type": "code",
   "execution_count": 3,
   "metadata": {},
   "outputs": [],
   "source": [
    "# Leitura das tabelas\n",
    "turmas_2013 = pd.read_csv(discentes_2013, sep=';')\n",
    "turmas_2014 = pd.read_csv(discentes_2014, sep=';')\n",
    "turmas_2015 = pd.read_csv(discentes_2015, sep=';')\n",
    "turmas_2016 = pd.read_csv(discentes_2016, sep=';')\n",
    "#turmas_2017 = pd.read_csv(discentes_2017, sep=';')\n",
    "turmas_2018 = pd.read_csv(discentes_2018, sep=';')"
   ]
  },
  {
   "cell_type": "code",
   "execution_count": 4,
   "metadata": {
    "scrolled": true
   },
   "outputs": [],
   "source": [
    "# Filtragem de dados pela coluna nome_unidade, sendo selecionadas somente a do IMD\n",
    "turma_2013_imd = turmas_2013.loc[(turmas_2013['nome_unidade'] == 'INSTITUTO METROPOLE DIGITAL')]\n",
    "turma_2014_imd = turmas_2014.loc[(turmas_2014['nome_unidade'] == 'INSTITUTO METROPOLE DIGITAL')]\n",
    "turma_2015_imd = turmas_2015.loc[(turmas_2015['nome_unidade'] == 'INSTITUTO METROPOLE DIGITAL')]\n",
    "turma_2016_imd = turmas_2016.loc[(turmas_2016['nome_unidade'] == 'INSTITUTO METROPOLE DIGITAL')]\n",
    "#turma_2017_imd = turmas_2017.loc[(turmas_2017['nome_unidade'] == 'INSTITUTO METROPOLE DIGITAL')]\n",
    "turma_2018_imd = turmas_2018.loc[(turmas_2018['nome_unidade'] == 'INSTITUTO METROPOLE DIGITAL')]"
   ]
  },
  {
   "cell_type": "code",
   "execution_count": 5,
   "metadata": {},
   "outputs": [
    {
     "data": {
      "text/plain": [
       "(9084, 16)"
      ]
     },
     "execution_count": 5,
     "metadata": {},
     "output_type": "execute_result"
    }
   ],
   "source": [
    "# Concatenação de todos os data frame de turmas do IMD\n",
    "imd_discentes = pd.concat([turma_2013_imd, turma_2014_imd, turma_2015_imd, turma_2016_imd, turma_2018_imd])\n",
    "imd_discentes.shape"
   ]
  },
  {
   "cell_type": "code",
   "execution_count": 6,
   "metadata": {},
   "outputs": [
    {
     "data": {
      "text/html": [
       "<div>\n",
       "<style scoped>\n",
       "    .dataframe tbody tr th:only-of-type {\n",
       "        vertical-align: middle;\n",
       "    }\n",
       "\n",
       "    .dataframe tbody tr th {\n",
       "        vertical-align: top;\n",
       "    }\n",
       "\n",
       "    .dataframe thead th {\n",
       "        text-align: right;\n",
       "    }\n",
       "</style>\n",
       "<table border=\"1\" class=\"dataframe\">\n",
       "  <thead>\n",
       "    <tr style=\"text-align: right;\">\n",
       "      <th></th>\n",
       "      <th>matricula</th>\n",
       "      <th>nome_discente</th>\n",
       "      <th>ano_ingresso</th>\n",
       "      <th>periodo_ingresso</th>\n",
       "      <th>forma_ingresso</th>\n",
       "      <th>tipo_discente</th>\n",
       "      <th>status</th>\n",
       "      <th>sigla_nivel_ensino</th>\n",
       "      <th>nivel_ensino</th>\n",
       "      <th>id_curso</th>\n",
       "      <th>nome_curso</th>\n",
       "      <th>modalidade_educacao</th>\n",
       "      <th>id_unidade</th>\n",
       "      <th>nome_unidade</th>\n",
       "      <th>id_unidade_gestora</th>\n",
       "      <th>nome_unidade_gestora</th>\n",
       "    </tr>\n",
       "  </thead>\n",
       "  <tbody>\n",
       "    <tr>\n",
       "      <th>1</th>\n",
       "      <td>2.013309e+09</td>\n",
       "      <td>ABDENOR BEZERRA DOS SANTOS</td>\n",
       "      <td>2013</td>\n",
       "      <td>1.0</td>\n",
       "      <td>PROCESSO SELETIVO</td>\n",
       "      <td>REGULAR</td>\n",
       "      <td>CANCELADO</td>\n",
       "      <td>T</td>\n",
       "      <td>TÉCNICO</td>\n",
       "      <td>96054058.0</td>\n",
       "      <td>CURSO TÉCNICO DA METRÓPOLE DIGITAL</td>\n",
       "      <td>SEMI-PRESENCIAL</td>\n",
       "      <td>6069.0</td>\n",
       "      <td>INSTITUTO METROPOLE DIGITAL</td>\n",
       "      <td>605.0</td>\n",
       "      <td>UNIVERSIDADE FEDERAL DO RIO GRANDE DO NORTE</td>\n",
       "    </tr>\n",
       "    <tr>\n",
       "      <th>3</th>\n",
       "      <td>2.013336e+09</td>\n",
       "      <td>ABDOM DOS SANTOS CANINDÉ</td>\n",
       "      <td>2013</td>\n",
       "      <td>1.0</td>\n",
       "      <td>PROCESSO SELETIVO</td>\n",
       "      <td>REGULAR</td>\n",
       "      <td>CANCELADO</td>\n",
       "      <td>T</td>\n",
       "      <td>TÉCNICO</td>\n",
       "      <td>96054058.0</td>\n",
       "      <td>CURSO TÉCNICO DA METRÓPOLE DIGITAL</td>\n",
       "      <td>SEMI-PRESENCIAL</td>\n",
       "      <td>6069.0</td>\n",
       "      <td>INSTITUTO METROPOLE DIGITAL</td>\n",
       "      <td>605.0</td>\n",
       "      <td>UNIVERSIDADE FEDERAL DO RIO GRANDE DO NORTE</td>\n",
       "    </tr>\n",
       "    <tr>\n",
       "      <th>4</th>\n",
       "      <td>2.013321e+09</td>\n",
       "      <td>ABELARDO BRUNDLE RODRIGUEZ DANTAS</td>\n",
       "      <td>2013</td>\n",
       "      <td>1.0</td>\n",
       "      <td>PROCESSO SELETIVO</td>\n",
       "      <td>REGULAR</td>\n",
       "      <td>CANCELADO</td>\n",
       "      <td>T</td>\n",
       "      <td>TÉCNICO</td>\n",
       "      <td>96054058.0</td>\n",
       "      <td>CURSO TÉCNICO DA METRÓPOLE DIGITAL</td>\n",
       "      <td>SEMI-PRESENCIAL</td>\n",
       "      <td>6069.0</td>\n",
       "      <td>INSTITUTO METROPOLE DIGITAL</td>\n",
       "      <td>605.0</td>\n",
       "      <td>UNIVERSIDADE FEDERAL DO RIO GRANDE DO NORTE</td>\n",
       "    </tr>\n",
       "    <tr>\n",
       "      <th>5</th>\n",
       "      <td>2.013304e+09</td>\n",
       "      <td>ABEL LAMEQUE SILVA DAMASCENO</td>\n",
       "      <td>2013</td>\n",
       "      <td>1.0</td>\n",
       "      <td>PROCESSO SELETIVO</td>\n",
       "      <td>REGULAR</td>\n",
       "      <td>CANCELADO</td>\n",
       "      <td>T</td>\n",
       "      <td>TÉCNICO</td>\n",
       "      <td>96054058.0</td>\n",
       "      <td>CURSO TÉCNICO DA METRÓPOLE DIGITAL</td>\n",
       "      <td>SEMI-PRESENCIAL</td>\n",
       "      <td>6069.0</td>\n",
       "      <td>INSTITUTO METROPOLE DIGITAL</td>\n",
       "      <td>605.0</td>\n",
       "      <td>UNIVERSIDADE FEDERAL DO RIO GRANDE DO NORTE</td>\n",
       "    </tr>\n",
       "    <tr>\n",
       "      <th>15</th>\n",
       "      <td>2.013304e+09</td>\n",
       "      <td>ABINADABE LIBNI SAMA SILVA DAMASCENO</td>\n",
       "      <td>2013</td>\n",
       "      <td>1.0</td>\n",
       "      <td>PROCESSO SELETIVO</td>\n",
       "      <td>REGULAR</td>\n",
       "      <td>CANCELADO</td>\n",
       "      <td>T</td>\n",
       "      <td>TÉCNICO</td>\n",
       "      <td>96054058.0</td>\n",
       "      <td>CURSO TÉCNICO DA METRÓPOLE DIGITAL</td>\n",
       "      <td>SEMI-PRESENCIAL</td>\n",
       "      <td>6069.0</td>\n",
       "      <td>INSTITUTO METROPOLE DIGITAL</td>\n",
       "      <td>605.0</td>\n",
       "      <td>UNIVERSIDADE FEDERAL DO RIO GRANDE DO NORTE</td>\n",
       "    </tr>\n",
       "  </tbody>\n",
       "</table>\n",
       "</div>"
      ],
      "text/plain": [
       "       matricula                         nome_discente  ano_ingresso  \\\n",
       "1   2.013309e+09            ABDENOR BEZERRA DOS SANTOS          2013   \n",
       "3   2.013336e+09              ABDOM DOS SANTOS CANINDÉ          2013   \n",
       "4   2.013321e+09     ABELARDO BRUNDLE RODRIGUEZ DANTAS          2013   \n",
       "5   2.013304e+09          ABEL LAMEQUE SILVA DAMASCENO          2013   \n",
       "15  2.013304e+09  ABINADABE LIBNI SAMA SILVA DAMASCENO          2013   \n",
       "\n",
       "    periodo_ingresso     forma_ingresso tipo_discente     status  \\\n",
       "1                1.0  PROCESSO SELETIVO       REGULAR  CANCELADO   \n",
       "3                1.0  PROCESSO SELETIVO       REGULAR  CANCELADO   \n",
       "4                1.0  PROCESSO SELETIVO       REGULAR  CANCELADO   \n",
       "5                1.0  PROCESSO SELETIVO       REGULAR  CANCELADO   \n",
       "15               1.0  PROCESSO SELETIVO       REGULAR  CANCELADO   \n",
       "\n",
       "   sigla_nivel_ensino nivel_ensino    id_curso  \\\n",
       "1                   T      TÉCNICO  96054058.0   \n",
       "3                   T      TÉCNICO  96054058.0   \n",
       "4                   T      TÉCNICO  96054058.0   \n",
       "5                   T      TÉCNICO  96054058.0   \n",
       "15                  T      TÉCNICO  96054058.0   \n",
       "\n",
       "                            nome_curso modalidade_educacao  id_unidade  \\\n",
       "1   CURSO TÉCNICO DA METRÓPOLE DIGITAL     SEMI-PRESENCIAL      6069.0   \n",
       "3   CURSO TÉCNICO DA METRÓPOLE DIGITAL     SEMI-PRESENCIAL      6069.0   \n",
       "4   CURSO TÉCNICO DA METRÓPOLE DIGITAL     SEMI-PRESENCIAL      6069.0   \n",
       "5   CURSO TÉCNICO DA METRÓPOLE DIGITAL     SEMI-PRESENCIAL      6069.0   \n",
       "15  CURSO TÉCNICO DA METRÓPOLE DIGITAL     SEMI-PRESENCIAL      6069.0   \n",
       "\n",
       "                   nome_unidade  id_unidade_gestora  \\\n",
       "1   INSTITUTO METROPOLE DIGITAL               605.0   \n",
       "3   INSTITUTO METROPOLE DIGITAL               605.0   \n",
       "4   INSTITUTO METROPOLE DIGITAL               605.0   \n",
       "5   INSTITUTO METROPOLE DIGITAL               605.0   \n",
       "15  INSTITUTO METROPOLE DIGITAL               605.0   \n",
       "\n",
       "                           nome_unidade_gestora  \n",
       "1   UNIVERSIDADE FEDERAL DO RIO GRANDE DO NORTE  \n",
       "3   UNIVERSIDADE FEDERAL DO RIO GRANDE DO NORTE  \n",
       "4   UNIVERSIDADE FEDERAL DO RIO GRANDE DO NORTE  \n",
       "5   UNIVERSIDADE FEDERAL DO RIO GRANDE DO NORTE  \n",
       "15  UNIVERSIDADE FEDERAL DO RIO GRANDE DO NORTE  "
      ]
     },
     "execution_count": 6,
     "metadata": {},
     "output_type": "execute_result"
    }
   ],
   "source": [
    "imd_discentes.head()"
   ]
  },
  {
   "cell_type": "code",
   "execution_count": 7,
   "metadata": {},
   "outputs": [
    {
     "data": {
      "text/plain": [
       "(1518, 16)"
      ]
     },
     "execution_count": 7,
     "metadata": {},
     "output_type": "execute_result"
    }
   ],
   "source": [
    "# Filtragem por docentes do nivel de ensino graduação\n",
    "discentes_imd_graduacao = imd_discentes.loc[(imd_discentes['nivel_ensino'] == 'GRADUAÇÃO')]\n",
    "discentes_imd_graduacao.shape"
   ]
  },
  {
   "cell_type": "code",
   "execution_count": 8,
   "metadata": {
    "scrolled": false
   },
   "outputs": [
    {
     "data": {
      "text/html": [
       "<div>\n",
       "<style scoped>\n",
       "    .dataframe tbody tr th:only-of-type {\n",
       "        vertical-align: middle;\n",
       "    }\n",
       "\n",
       "    .dataframe tbody tr th {\n",
       "        vertical-align: top;\n",
       "    }\n",
       "\n",
       "    .dataframe thead th {\n",
       "        text-align: right;\n",
       "    }\n",
       "</style>\n",
       "<table border=\"1\" class=\"dataframe\">\n",
       "  <thead>\n",
       "    <tr style=\"text-align: right;\">\n",
       "      <th></th>\n",
       "      <th>matricula</th>\n",
       "      <th>nome_discente</th>\n",
       "      <th>ano_ingresso</th>\n",
       "      <th>periodo_ingresso</th>\n",
       "      <th>forma_ingresso</th>\n",
       "      <th>tipo_discente</th>\n",
       "      <th>status</th>\n",
       "      <th>sigla_nivel_ensino</th>\n",
       "      <th>nivel_ensino</th>\n",
       "      <th>id_curso</th>\n",
       "      <th>nome_curso</th>\n",
       "      <th>modalidade_educacao</th>\n",
       "      <th>id_unidade</th>\n",
       "      <th>nome_unidade</th>\n",
       "      <th>id_unidade_gestora</th>\n",
       "      <th>nome_unidade_gestora</th>\n",
       "    </tr>\n",
       "  </thead>\n",
       "  <tbody>\n",
       "    <tr>\n",
       "      <th>80</th>\n",
       "      <td>2.013020e+09</td>\n",
       "      <td>ADEMIR BEZERRA DA SILVA JUNIOR</td>\n",
       "      <td>2013</td>\n",
       "      <td>1.0</td>\n",
       "      <td>VESTIBULAR</td>\n",
       "      <td>REGULAR</td>\n",
       "      <td>CONCLUÍDO</td>\n",
       "      <td>G</td>\n",
       "      <td>GRADUAÇÃO</td>\n",
       "      <td>92127264.0</td>\n",
       "      <td>TECNOLOGIA DA INFORMAÇÃO</td>\n",
       "      <td>PRESENCIAL</td>\n",
       "      <td>6069.0</td>\n",
       "      <td>INSTITUTO METROPOLE DIGITAL</td>\n",
       "      <td>605.0</td>\n",
       "      <td>UNIVERSIDADE FEDERAL DO RIO GRANDE DO NORTE</td>\n",
       "    </tr>\n",
       "    <tr>\n",
       "      <th>122</th>\n",
       "      <td>2.013056e+09</td>\n",
       "      <td>ADONIAS GALVÃO FILHO</td>\n",
       "      <td>2013</td>\n",
       "      <td>1.0</td>\n",
       "      <td>SiSU</td>\n",
       "      <td>REGULAR</td>\n",
       "      <td>ATIVO</td>\n",
       "      <td>G</td>\n",
       "      <td>GRADUAÇÃO</td>\n",
       "      <td>92127264.0</td>\n",
       "      <td>TECNOLOGIA DA INFORMAÇÃO</td>\n",
       "      <td>PRESENCIAL</td>\n",
       "      <td>6069.0</td>\n",
       "      <td>INSTITUTO METROPOLE DIGITAL</td>\n",
       "      <td>605.0</td>\n",
       "      <td>UNIVERSIDADE FEDERAL DO RIO GRANDE DO NORTE</td>\n",
       "    </tr>\n",
       "    <tr>\n",
       "      <th>490</th>\n",
       "      <td>2.013047e+09</td>\n",
       "      <td>ALESON BELO DA SILVA</td>\n",
       "      <td>2013</td>\n",
       "      <td>1.0</td>\n",
       "      <td>SiSU</td>\n",
       "      <td>REGULAR</td>\n",
       "      <td>CANCELADO</td>\n",
       "      <td>G</td>\n",
       "      <td>GRADUAÇÃO</td>\n",
       "      <td>92127264.0</td>\n",
       "      <td>TECNOLOGIA DA INFORMAÇÃO</td>\n",
       "      <td>PRESENCIAL</td>\n",
       "      <td>6069.0</td>\n",
       "      <td>INSTITUTO METROPOLE DIGITAL</td>\n",
       "      <td>605.0</td>\n",
       "      <td>UNIVERSIDADE FEDERAL DO RIO GRANDE DO NORTE</td>\n",
       "    </tr>\n",
       "    <tr>\n",
       "      <th>596</th>\n",
       "      <td>2.013042e+09</td>\n",
       "      <td>ALEXANDRE TADEU DE FIGUEIREDO AZEVEDO</td>\n",
       "      <td>2013</td>\n",
       "      <td>1.0</td>\n",
       "      <td>SiSU</td>\n",
       "      <td>REGULAR</td>\n",
       "      <td>CANCELADO</td>\n",
       "      <td>G</td>\n",
       "      <td>GRADUAÇÃO</td>\n",
       "      <td>92127264.0</td>\n",
       "      <td>TECNOLOGIA DA INFORMAÇÃO</td>\n",
       "      <td>PRESENCIAL</td>\n",
       "      <td>6069.0</td>\n",
       "      <td>INSTITUTO METROPOLE DIGITAL</td>\n",
       "      <td>605.0</td>\n",
       "      <td>UNIVERSIDADE FEDERAL DO RIO GRANDE DO NORTE</td>\n",
       "    </tr>\n",
       "    <tr>\n",
       "      <th>622</th>\n",
       "      <td>2.013051e+09</td>\n",
       "      <td>ALEXIS JORDÃO GONÇALVES PEREIRA</td>\n",
       "      <td>2013</td>\n",
       "      <td>1.0</td>\n",
       "      <td>VESTIBULAR</td>\n",
       "      <td>REGULAR</td>\n",
       "      <td>CONCLUÍDO</td>\n",
       "      <td>G</td>\n",
       "      <td>GRADUAÇÃO</td>\n",
       "      <td>92127264.0</td>\n",
       "      <td>TECNOLOGIA DA INFORMAÇÃO</td>\n",
       "      <td>PRESENCIAL</td>\n",
       "      <td>6069.0</td>\n",
       "      <td>INSTITUTO METROPOLE DIGITAL</td>\n",
       "      <td>605.0</td>\n",
       "      <td>UNIVERSIDADE FEDERAL DO RIO GRANDE DO NORTE</td>\n",
       "    </tr>\n",
       "  </tbody>\n",
       "</table>\n",
       "</div>"
      ],
      "text/plain": [
       "        matricula                          nome_discente  ano_ingresso  \\\n",
       "80   2.013020e+09         ADEMIR BEZERRA DA SILVA JUNIOR          2013   \n",
       "122  2.013056e+09                   ADONIAS GALVÃO FILHO          2013   \n",
       "490  2.013047e+09                   ALESON BELO DA SILVA          2013   \n",
       "596  2.013042e+09  ALEXANDRE TADEU DE FIGUEIREDO AZEVEDO          2013   \n",
       "622  2.013051e+09        ALEXIS JORDÃO GONÇALVES PEREIRA          2013   \n",
       "\n",
       "     periodo_ingresso forma_ingresso tipo_discente     status  \\\n",
       "80                1.0     VESTIBULAR       REGULAR  CONCLUÍDO   \n",
       "122               1.0           SiSU       REGULAR      ATIVO   \n",
       "490               1.0           SiSU       REGULAR  CANCELADO   \n",
       "596               1.0           SiSU       REGULAR  CANCELADO   \n",
       "622               1.0     VESTIBULAR       REGULAR  CONCLUÍDO   \n",
       "\n",
       "    sigla_nivel_ensino nivel_ensino    id_curso                nome_curso  \\\n",
       "80                   G    GRADUAÇÃO  92127264.0  TECNOLOGIA DA INFORMAÇÃO   \n",
       "122                  G    GRADUAÇÃO  92127264.0  TECNOLOGIA DA INFORMAÇÃO   \n",
       "490                  G    GRADUAÇÃO  92127264.0  TECNOLOGIA DA INFORMAÇÃO   \n",
       "596                  G    GRADUAÇÃO  92127264.0  TECNOLOGIA DA INFORMAÇÃO   \n",
       "622                  G    GRADUAÇÃO  92127264.0  TECNOLOGIA DA INFORMAÇÃO   \n",
       "\n",
       "    modalidade_educacao  id_unidade                 nome_unidade  \\\n",
       "80           PRESENCIAL      6069.0  INSTITUTO METROPOLE DIGITAL   \n",
       "122          PRESENCIAL      6069.0  INSTITUTO METROPOLE DIGITAL   \n",
       "490          PRESENCIAL      6069.0  INSTITUTO METROPOLE DIGITAL   \n",
       "596          PRESENCIAL      6069.0  INSTITUTO METROPOLE DIGITAL   \n",
       "622          PRESENCIAL      6069.0  INSTITUTO METROPOLE DIGITAL   \n",
       "\n",
       "     id_unidade_gestora                         nome_unidade_gestora  \n",
       "80                605.0  UNIVERSIDADE FEDERAL DO RIO GRANDE DO NORTE  \n",
       "122               605.0  UNIVERSIDADE FEDERAL DO RIO GRANDE DO NORTE  \n",
       "490               605.0  UNIVERSIDADE FEDERAL DO RIO GRANDE DO NORTE  \n",
       "596               605.0  UNIVERSIDADE FEDERAL DO RIO GRANDE DO NORTE  \n",
       "622               605.0  UNIVERSIDADE FEDERAL DO RIO GRANDE DO NORTE  "
      ]
     },
     "execution_count": 8,
     "metadata": {},
     "output_type": "execute_result"
    }
   ],
   "source": [
    "discentes_imd_graduacao.head()"
   ]
  },
  {
   "cell_type": "code",
   "execution_count": 9,
   "metadata": {},
   "outputs": [
    {
     "name": "stdout",
     "output_type": "stream",
     "text": [
      "Solving environment: done\n",
      "\n",
      "# All requested packages already installed.\n",
      "\n"
     ]
    }
   ],
   "source": [
    "!conda install -c r rpy2 --y"
   ]
  },
  {
   "cell_type": "code",
   "execution_count": 10,
   "metadata": {},
   "outputs": [],
   "source": [
    "# Carregar uma interface para objetos na linguagem R\n",
    "import rpy2.robjects as robjects\n",
    "%load_ext rpy2.ipython"
   ]
  },
  {
   "cell_type": "code",
   "execution_count": 11,
   "metadata": {},
   "outputs": [
    {
     "name": "stdout",
     "output_type": "stream",
     "text": [
      "/usr/bin/sh: -c: linha 0: erro de sintaxe próximo ao token inesperado `\"genderBR\"'\r\n",
      "/usr/bin/sh: -c: linha 0: `install.packages(\"genderBR\")'\r\n"
     ]
    }
   ],
   "source": [
    "!install.packages(\"genderBR\")"
   ]
  },
  {
   "cell_type": "code",
   "execution_count": 12,
   "metadata": {},
   "outputs": [],
   "source": [
    "%%R \n",
    "# Carregar a biblioteca genderBR\n",
    "suppressMessages(library(genderBR))"
   ]
  },
  {
   "cell_type": "code",
   "execution_count": 26,
   "metadata": {},
   "outputs": [
    {
     "name": "stderr",
     "output_type": "stream",
     "text": [
      "/home/bryan/anaconda3/lib/python3.6/site-packages/ipykernel_launcher.py:11: SettingWithCopyWarning: \n",
      "A value is trying to be set on a copy of a slice from a DataFrame.\n",
      "Try using .loc[row_indexer,col_indexer] = value instead\n",
      "\n",
      "See the caveats in the documentation: http://pandas.pydata.org/pandas-docs/stable/indexing.html#indexing-view-versus-copy\n",
      "  # This is added back by InteractiveShellApp.init_path()\n"
     ]
    }
   ],
   "source": [
    "generos = []\n",
    "for nome in discentes_imd_graduacao.nome_discente:\n",
    "    primeiro_nome = nome.split()[0]\n",
    "    genero = robjects.r.get_gender(primeiro_nome)\n",
    "    genero = genero.r_repr()\n",
    "    genero = genero.strip('\\\"')\n",
    "    if genero.startswith('NA'):\n",
    "        genero = None\n",
    "    generos.append(genero)\n",
    "    \n",
    "discentes_imd_graduacao[\"generos\"] = generos"
   ]
  }
 ],
 "metadata": {
  "kernelspec": {
   "display_name": "Python 3",
   "language": "python",
   "name": "python3"
  },
  "language_info": {
   "codemirror_mode": {
    "name": "ipython",
    "version": 3
   },
   "file_extension": ".py",
   "mimetype": "text/x-python",
   "name": "python",
   "nbconvert_exporter": "python",
   "pygments_lexer": "ipython3",
   "version": "3.6.4"
  }
 },
 "nbformat": 4,
 "nbformat_minor": 2
}
